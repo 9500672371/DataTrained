{
 "cells": [
  {
   "cell_type": "code",
   "execution_count": 2,
   "id": "82ae0edb",
   "metadata": {},
   "outputs": [],
   "source": [
    "#PYTHON"
   ]
  },
  {
   "cell_type": "code",
   "execution_count": 3,
   "id": "d5421964",
   "metadata": {},
   "outputs": [
    {
     "name": "stdout",
     "output_type": "stream",
     "text": [
      "Enter Number =4\n",
      "24\n"
     ]
    }
   ],
   "source": [
    "# Q11\n",
    "num=1\n",
    "n1=int(input(\"Enter Number =\"))\n",
    "for i in range(1,n1+1):\n",
    "    num = num * i\n",
    "print(num)"
   ]
  },
  {
   "cell_type": "code",
   "execution_count": 4,
   "id": "958f1d9a",
   "metadata": {},
   "outputs": [
    {
     "name": "stdout",
     "output_type": "stream",
     "text": [
      "Enter Number =5\n",
      "The number 5 is Prime\n"
     ]
    }
   ],
   "source": [
    "#Q12\n",
    "n2=int(input(\"Enter Number =\"))\n",
    "for i in range(2,n2):\n",
    "    if n2%i == 0:\n",
    "        print(f\"The number {n2} is Composite\")\n",
    "        break;\n",
    "else:\n",
    "    print(f\"The number {n2} is Prime\")"
   ]
  },
  {
   "cell_type": "code",
   "execution_count": 5,
   "id": "83fdcabc",
   "metadata": {},
   "outputs": [
    {
     "name": "stdout",
     "output_type": "stream",
     "text": [
      "Enter the word=grurgh\n",
      "The word grurgh is NOT A PALINDROME\n"
     ]
    }
   ],
   "source": [
    "#Q13\n",
    "text = input('Enter the word=')\n",
    "str_revsd = ''.join(reversed(text))\n",
    "str_revsd\n",
    "if text == str_revsd:\n",
    "    print(f'The word {text} is PALINDROME')\n",
    "else:\n",
    "    print(f'The word {text} is NOT A PALINDROME')"
   ]
  },
  {
   "cell_type": "code",
   "execution_count": 6,
   "id": "743782bb",
   "metadata": {},
   "outputs": [],
   "source": [
    "import math as m"
   ]
  },
  {
   "cell_type": "code",
   "execution_count": 7,
   "id": "c84f1f13",
   "metadata": {},
   "outputs": [
    {
     "name": "stdout",
     "output_type": "stream",
     "text": [
      "enter Side 1 =3\n",
      "enter Side 2 =4\n",
      "the third side is 5.0\n"
     ]
    }
   ],
   "source": [
    "#Q14\n",
    "a = int(input(\"enter Side 1 =\"))\n",
    "b = int(input(\"enter Side 2 =\"))\n",
    "c = m.sqrt((a**2)+(b**2))\n",
    "print(\"the third side is\",c)"
   ]
  },
  {
   "cell_type": "code",
   "execution_count": 18,
   "id": "fd325b49",
   "metadata": {},
   "outputs": [
    {
     "name": "stdout",
     "output_type": "stream",
     "text": [
      "Enter the word=ashish\n",
      "Count of all characters in ashish is :\n",
      " {'a': 1, 's': 2, 'h': 2, 'i': 1}\n"
     ]
    }
   ],
   "source": [
    "#Q15\n",
    "text = input('Enter the word=')\n",
    "save = {}\n",
    "  \n",
    "for i in text:\n",
    "    if i in save:\n",
    "        save[i] += 1\n",
    "    else:\n",
    "        save[i] = 1\n",
    "        \n",
    "print (f\"Count of all characters in {text} is :\\n \"\n",
    "                                         + str(save))        "
   ]
  }
 ],
 "metadata": {
  "kernelspec": {
   "display_name": "Python 3 (ipykernel)",
   "language": "python",
   "name": "python3"
  },
  "language_info": {
   "codemirror_mode": {
    "name": "ipython",
    "version": 3
   },
   "file_extension": ".py",
   "mimetype": "text/x-python",
   "name": "python",
   "nbconvert_exporter": "python",
   "pygments_lexer": "ipython3",
   "version": "3.9.12"
  }
 },
 "nbformat": 4,
 "nbformat_minor": 5
}
