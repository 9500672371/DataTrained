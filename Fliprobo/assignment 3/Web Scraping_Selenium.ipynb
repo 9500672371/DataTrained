{
 "cells": [
  {
   "cell_type": "code",
   "execution_count": 1,
   "id": "3d1286c4",
   "metadata": {},
   "outputs": [],
   "source": [
    "import selenium\n",
    "from selenium import webdriver\n",
    "import pandas as pd\n",
    "from selenium.webdriver.common.by import By\n",
    "import warnings\n",
    "warnings.filterwarnings('ignore')\n",
    "import time"
   ]
  },
  {
   "cell_type": "code",
   "execution_count": 49,
   "id": "16a50479",
   "metadata": {},
   "outputs": [],
   "source": [
    "driver = webdriver.Chrome(r'C:\\Users\\jha9001\\Downloads\\chromedriver_win32\\chromedriver.exe')"
   ]
  },
  {
   "cell_type": "code",
   "execution_count": 50,
   "id": "e4774e9b",
   "metadata": {},
   "outputs": [],
   "source": [
    "driver.maximize_window()"
   ]
  },
  {
   "cell_type": "code",
   "execution_count": 8,
   "id": "dc4ce26f",
   "metadata": {},
   "outputs": [],
   "source": [
    "#QUESTION 1"
   ]
  },
  {
   "cell_type": "code",
   "execution_count": 9,
   "id": "c355939f",
   "metadata": {},
   "outputs": [],
   "source": [
    "url = ('https://www.naukri.com/')\n",
    "driver.get(url)"
   ]
  },
  {
   "cell_type": "code",
   "execution_count": 10,
   "id": "7356613d",
   "metadata": {},
   "outputs": [],
   "source": [
    "designation = driver.find_element(By.CLASS_NAME,'suggestor-input ')\n",
    "designation.send_keys('Data Analyst')"
   ]
  },
  {
   "cell_type": "code",
   "execution_count": 11,
   "id": "7429da29",
   "metadata": {},
   "outputs": [],
   "source": [
    "Loc = driver.find_element(By.XPATH,'/html/body/div[1]/div[6]/div/div/div[5]/div/div/div/input')\n",
    "Loc.send_keys('Bangalore')"
   ]
  },
  {
   "cell_type": "code",
   "execution_count": 12,
   "id": "6cd7c049",
   "metadata": {},
   "outputs": [],
   "source": [
    "search = driver.find_element(By.CLASS_NAME,'qsbSubmit')\n",
    "search.click()"
   ]
  },
  {
   "cell_type": "code",
   "execution_count": 18,
   "id": "272fe0ed",
   "metadata": {},
   "outputs": [
    {
     "data": {
      "text/plain": [
       "20"
      ]
     },
     "execution_count": 18,
     "metadata": {},
     "output_type": "execute_result"
    }
   ],
   "source": [
    "job=[]\n",
    "job_link = driver.find_elements(By.XPATH,\"//a[@class='title fw500 ellipsis']\")\n",
    "for i in job_link:\n",
    "    job.append(i.text)\n",
    "len(job)"
   ]
  },
  {
   "cell_type": "code",
   "execution_count": 14,
   "id": "c463b0a6",
   "metadata": {},
   "outputs": [
    {
     "data": {
      "text/plain": [
       "20"
      ]
     },
     "execution_count": 14,
     "metadata": {},
     "output_type": "execute_result"
    }
   ],
   "source": [
    "company = []\n",
    "for i in driver.find_elements(By.XPATH,\"//div[@class='mt-7 companyInfo subheading lh16']\"):\n",
    "    company.append(i.text.split('\\n')[0])\n",
    "len(company)"
   ]
  },
  {
   "cell_type": "code",
   "execution_count": 15,
   "id": "384fe9a3",
   "metadata": {},
   "outputs": [
    {
     "data": {
      "text/plain": [
       "20"
      ]
     },
     "execution_count": 15,
     "metadata": {},
     "output_type": "execute_result"
    }
   ],
   "source": [
    "loc=[] \n",
    "for i in driver.find_elements(By.XPATH,\"//span[@class='ellipsis fleft fs12 lh16 locWdth']\"):\n",
    "    loc.append(i.text)\n",
    "len(loc)"
   ]
  },
  {
   "cell_type": "code",
   "execution_count": 16,
   "id": "fce58769",
   "metadata": {},
   "outputs": [
    {
     "data": {
      "text/plain": [
       "20"
      ]
     },
     "execution_count": 16,
     "metadata": {},
     "output_type": "execute_result"
    }
   ],
   "source": [
    "exp=[]\n",
    "for i in driver.find_elements(By.XPATH,\"//span[@class='ellipsis fleft fs12 lh16 expwdth']\"):\n",
    "    exp.append(i.text)\n",
    "len(exp)"
   ]
  },
  {
   "cell_type": "code",
   "execution_count": 19,
   "id": "17cbc87b",
   "metadata": {},
   "outputs": [],
   "source": [
    "table = pd.DataFrame({'job-title':job,\n",
    "                    'job-location':loc,\n",
    "                    'company_name':company,\n",
    "                    'experience_required':exp\n",
    "                    })"
   ]
  },
  {
   "cell_type": "code",
   "execution_count": 20,
   "id": "5179e044",
   "metadata": {},
   "outputs": [],
   "source": [
    "table_final = table.head(10)"
   ]
  },
  {
   "cell_type": "code",
   "execution_count": 40,
   "id": "be443e6c",
   "metadata": {},
   "outputs": [
    {
     "data": {
      "text/html": [
       "<div>\n",
       "<style scoped>\n",
       "    .dataframe tbody tr th:only-of-type {\n",
       "        vertical-align: middle;\n",
       "    }\n",
       "\n",
       "    .dataframe tbody tr th {\n",
       "        vertical-align: top;\n",
       "    }\n",
       "\n",
       "    .dataframe thead th {\n",
       "        text-align: right;\n",
       "    }\n",
       "</style>\n",
       "<table border=\"1\" class=\"dataframe\">\n",
       "  <thead>\n",
       "    <tr style=\"text-align: right;\">\n",
       "      <th></th>\n",
       "      <th>job-title</th>\n",
       "      <th>job-location</th>\n",
       "      <th>company_name</th>\n",
       "      <th>experience_required</th>\n",
       "    </tr>\n",
       "  </thead>\n",
       "  <tbody>\n",
       "    <tr>\n",
       "      <th>0</th>\n",
       "      <td>Senior Data Analyst - PLM Data Migration</td>\n",
       "      <td>Bangalore/Bengaluru</td>\n",
       "      <td>CGI</td>\n",
       "      <td>3-6 Yrs</td>\n",
       "    </tr>\n",
       "    <tr>\n",
       "      <th>1</th>\n",
       "      <td>Data Analyst</td>\n",
       "      <td>Bangalore/Bengaluru</td>\n",
       "      <td>IBM</td>\n",
       "      <td>3-4 Yrs</td>\n",
       "    </tr>\n",
       "    <tr>\n",
       "      <th>2</th>\n",
       "      <td>Senior Data Analyst</td>\n",
       "      <td>Hybrid - Bangalore/Bengaluru, Gurgaon/Gurugram</td>\n",
       "      <td>Groundtruth</td>\n",
       "      <td>5-8 Yrs</td>\n",
       "    </tr>\n",
       "    <tr>\n",
       "      <th>3</th>\n",
       "      <td>Associate Healthcare Research &amp; Data Analyst</td>\n",
       "      <td>Bangalore/Bengaluru</td>\n",
       "      <td>Clarivate</td>\n",
       "      <td>3-4 Yrs</td>\n",
       "    </tr>\n",
       "    <tr>\n",
       "      <th>4</th>\n",
       "      <td>Lead Data Analyst</td>\n",
       "      <td>Bangalore/Bengaluru</td>\n",
       "      <td>Mobile Premier League (MPL)</td>\n",
       "      <td>4-7 Yrs</td>\n",
       "    </tr>\n",
       "    <tr>\n",
       "      <th>5</th>\n",
       "      <td>Contractual Hiring For Top MNC || Business Dat...</td>\n",
       "      <td>Bangalore/Bengaluru</td>\n",
       "      <td>TeamLease</td>\n",
       "      <td>5-8 Yrs</td>\n",
       "    </tr>\n",
       "    <tr>\n",
       "      <th>6</th>\n",
       "      <td>Master Data Management Business Analyst</td>\n",
       "      <td>Bangalore/Bengaluru</td>\n",
       "      <td>Accenture</td>\n",
       "      <td>6-8 Yrs</td>\n",
       "    </tr>\n",
       "    <tr>\n",
       "      <th>7</th>\n",
       "      <td>Data Analyst</td>\n",
       "      <td>Bangalore/Bengaluru</td>\n",
       "      <td>Bsharp</td>\n",
       "      <td>1-3 Yrs</td>\n",
       "    </tr>\n",
       "    <tr>\n",
       "      <th>8</th>\n",
       "      <td>Sr. Data Analyst (SAS Data Management)</td>\n",
       "      <td>Bangalore/Bengaluru, New Delhi</td>\n",
       "      <td>NMS Consultant</td>\n",
       "      <td>5-10 Yrs</td>\n",
       "    </tr>\n",
       "    <tr>\n",
       "      <th>9</th>\n",
       "      <td>Lead Data Analyst</td>\n",
       "      <td>Bangalore/Bengaluru</td>\n",
       "      <td>SVB Global Services India Llp</td>\n",
       "      <td>8-13 Yrs</td>\n",
       "    </tr>\n",
       "  </tbody>\n",
       "</table>\n",
       "</div>"
      ],
      "text/plain": [
       "                                           job-title  \\\n",
       "0           Senior Data Analyst - PLM Data Migration   \n",
       "1                                       Data Analyst   \n",
       "2                                Senior Data Analyst   \n",
       "3       Associate Healthcare Research & Data Analyst   \n",
       "4                                  Lead Data Analyst   \n",
       "5  Contractual Hiring For Top MNC || Business Dat...   \n",
       "6            Master Data Management Business Analyst   \n",
       "7                                       Data Analyst   \n",
       "8             Sr. Data Analyst (SAS Data Management)   \n",
       "9                                  Lead Data Analyst   \n",
       "\n",
       "                                     job-location  \\\n",
       "0                             Bangalore/Bengaluru   \n",
       "1                             Bangalore/Bengaluru   \n",
       "2  Hybrid - Bangalore/Bengaluru, Gurgaon/Gurugram   \n",
       "3                             Bangalore/Bengaluru   \n",
       "4                             Bangalore/Bengaluru   \n",
       "5                             Bangalore/Bengaluru   \n",
       "6                             Bangalore/Bengaluru   \n",
       "7                             Bangalore/Bengaluru   \n",
       "8                  Bangalore/Bengaluru, New Delhi   \n",
       "9                             Bangalore/Bengaluru   \n",
       "\n",
       "                    company_name experience_required  \n",
       "0                            CGI             3-6 Yrs  \n",
       "1                            IBM             3-4 Yrs  \n",
       "2                    Groundtruth             5-8 Yrs  \n",
       "3                      Clarivate             3-4 Yrs  \n",
       "4    Mobile Premier League (MPL)             4-7 Yrs  \n",
       "5                      TeamLease             5-8 Yrs  \n",
       "6                      Accenture             6-8 Yrs  \n",
       "7                         Bsharp             1-3 Yrs  \n",
       "8                 NMS Consultant            5-10 Yrs  \n",
       "9  SVB Global Services India Llp            8-13 Yrs  "
      ]
     },
     "execution_count": 40,
     "metadata": {},
     "output_type": "execute_result"
    }
   ],
   "source": [
    "table_final"
   ]
  },
  {
   "cell_type": "code",
   "execution_count": 21,
   "id": "6a34cfc3",
   "metadata": {},
   "outputs": [],
   "source": [
    "#QUESTION 2"
   ]
  },
  {
   "cell_type": "code",
   "execution_count": 22,
   "id": "8e76b6fa",
   "metadata": {},
   "outputs": [],
   "source": [
    "url = ('https://www.naukri.com/')\n",
    "driver.get(url)"
   ]
  },
  {
   "cell_type": "code",
   "execution_count": 23,
   "id": "1e035fb0",
   "metadata": {},
   "outputs": [],
   "source": [
    "designation = driver.find_element(By.CLASS_NAME,'suggestor-input ')\n",
    "designation.send_keys('Data Scientist')"
   ]
  },
  {
   "cell_type": "code",
   "execution_count": 24,
   "id": "f295fb26",
   "metadata": {},
   "outputs": [],
   "source": [
    "Loc = driver.find_element(By.XPATH,'/html/body/div[1]/div[6]/div/div/div[5]/div/div/div/input')\n",
    "Loc.send_keys('Bangalore')"
   ]
  },
  {
   "cell_type": "code",
   "execution_count": 25,
   "id": "9810ab2b",
   "metadata": {},
   "outputs": [],
   "source": [
    "search = driver.find_element(By.CLASS_NAME,'qsbSubmit')\n",
    "search.click()"
   ]
  },
  {
   "cell_type": "code",
   "execution_count": 26,
   "id": "e18efa31",
   "metadata": {},
   "outputs": [
    {
     "data": {
      "text/plain": [
       "20"
      ]
     },
     "execution_count": 26,
     "metadata": {},
     "output_type": "execute_result"
    }
   ],
   "source": [
    "job=[]\n",
    "job_link = driver.find_elements(By.XPATH,\"//a[@class='title fw500 ellipsis']\")\n",
    "for i in job_link:\n",
    "    job.append(i.text)\n",
    "len(job)"
   ]
  },
  {
   "cell_type": "code",
   "execution_count": 27,
   "id": "b328d6f4",
   "metadata": {},
   "outputs": [
    {
     "data": {
      "text/plain": [
       "20"
      ]
     },
     "execution_count": 27,
     "metadata": {},
     "output_type": "execute_result"
    }
   ],
   "source": [
    "loc=[] \n",
    "for i in driver.find_elements(By.XPATH,\"//span[@class='ellipsis fleft fs12 lh16 locWdth']\"):\n",
    "    loc.append(i.text)\n",
    "len(loc)"
   ]
  },
  {
   "cell_type": "code",
   "execution_count": 28,
   "id": "5fd94146",
   "metadata": {},
   "outputs": [
    {
     "data": {
      "text/plain": [
       "20"
      ]
     },
     "execution_count": 28,
     "metadata": {},
     "output_type": "execute_result"
    }
   ],
   "source": [
    "company = []\n",
    "for i in driver.find_elements(By.XPATH,\"//div[@class='mt-7 companyInfo subheading lh16']\"):\n",
    "    company.append(i.text.split('\\n')[0])\n",
    "len(company)"
   ]
  },
  {
   "cell_type": "code",
   "execution_count": 29,
   "id": "2a042d1d",
   "metadata": {},
   "outputs": [],
   "source": [
    "table = pd.DataFrame({'job-title':job,\n",
    "                    'job-location':loc,\n",
    "                    'company_name':company,\n",
    "                    'experience_required':exp\n",
    "                    })"
   ]
  },
  {
   "cell_type": "code",
   "execution_count": 30,
   "id": "d2e2fea1",
   "metadata": {},
   "outputs": [],
   "source": [
    "table_final = table.head(10)"
   ]
  },
  {
   "cell_type": "code",
   "execution_count": 31,
   "id": "72d05e80",
   "metadata": {},
   "outputs": [
    {
     "data": {
      "text/html": [
       "<div>\n",
       "<style scoped>\n",
       "    .dataframe tbody tr th:only-of-type {\n",
       "        vertical-align: middle;\n",
       "    }\n",
       "\n",
       "    .dataframe tbody tr th {\n",
       "        vertical-align: top;\n",
       "    }\n",
       "\n",
       "    .dataframe thead th {\n",
       "        text-align: right;\n",
       "    }\n",
       "</style>\n",
       "<table border=\"1\" class=\"dataframe\">\n",
       "  <thead>\n",
       "    <tr style=\"text-align: right;\">\n",
       "      <th></th>\n",
       "      <th>job-title</th>\n",
       "      <th>job-location</th>\n",
       "      <th>company_name</th>\n",
       "      <th>experience_required</th>\n",
       "    </tr>\n",
       "  </thead>\n",
       "  <tbody>\n",
       "    <tr>\n",
       "      <th>0</th>\n",
       "      <td>Data Scientist</td>\n",
       "      <td>Bangalore/Bengaluru, New Delhi, Hyderabad/Secu...</td>\n",
       "      <td>Tata Nexarc</td>\n",
       "      <td>0-2 Yrs</td>\n",
       "    </tr>\n",
       "    <tr>\n",
       "      <th>1</th>\n",
       "      <td>Analystics &amp; Modeling Specialist</td>\n",
       "      <td>Bangalore/Bengaluru, Kolkata, Mumbai, Hyderaba...</td>\n",
       "      <td>Accenture</td>\n",
       "      <td>0-2 Yrs</td>\n",
       "    </tr>\n",
       "    <tr>\n",
       "      <th>2</th>\n",
       "      <td>Data Scientist</td>\n",
       "      <td>Hybrid - Bangalore/Bengaluru, Noida, Kolkata, ...</td>\n",
       "      <td>Mindtree</td>\n",
       "      <td>2-5 Yrs</td>\n",
       "    </tr>\n",
       "    <tr>\n",
       "      <th>3</th>\n",
       "      <td>Assistant Manager - Data Science, Need Immedia...</td>\n",
       "      <td>Hybrid - Bangalore/Bengaluru, Pune, Gurgaon/Gu...</td>\n",
       "      <td>Citiustech</td>\n",
       "      <td>5-10 Yrs</td>\n",
       "    </tr>\n",
       "    <tr>\n",
       "      <th>4</th>\n",
       "      <td>Data Scientist - Noida/Bangalore</td>\n",
       "      <td>Bangalore/Bengaluru, Noida</td>\n",
       "      <td>EXL</td>\n",
       "      <td>3-8 Yrs</td>\n",
       "    </tr>\n",
       "    <tr>\n",
       "      <th>5</th>\n",
       "      <td>Data Scientist</td>\n",
       "      <td>Bangalore/Bengaluru</td>\n",
       "      <td>Infosys</td>\n",
       "      <td>5-8 Yrs</td>\n",
       "    </tr>\n",
       "    <tr>\n",
       "      <th>6</th>\n",
       "      <td>Senior Data Scientist</td>\n",
       "      <td>Bangalore/Bengaluru</td>\n",
       "      <td>Visa</td>\n",
       "      <td>5-10 Yrs</td>\n",
       "    </tr>\n",
       "    <tr>\n",
       "      <th>7</th>\n",
       "      <td>Consulting and Analytics</td>\n",
       "      <td>Bangalore/Bengaluru</td>\n",
       "      <td>Visa</td>\n",
       "      <td>2-7 Yrs</td>\n",
       "    </tr>\n",
       "    <tr>\n",
       "      <th>8</th>\n",
       "      <td>Senior Data Scientist</td>\n",
       "      <td>Hybrid - Bangalore/Bengaluru, Pune, Chennai</td>\n",
       "      <td>Wipro</td>\n",
       "      <td>2-7 Yrs</td>\n",
       "    </tr>\n",
       "    <tr>\n",
       "      <th>9</th>\n",
       "      <td>Data Scientist</td>\n",
       "      <td>Bangalore/Bengaluru, Hyderabad/Secunderabad, P...</td>\n",
       "      <td>Altair</td>\n",
       "      <td>5-10 Yrs</td>\n",
       "    </tr>\n",
       "  </tbody>\n",
       "</table>\n",
       "</div>"
      ],
      "text/plain": [
       "                                           job-title  \\\n",
       "0                                     Data Scientist   \n",
       "1                   Analystics & Modeling Specialist   \n",
       "2                                     Data Scientist   \n",
       "3  Assistant Manager - Data Science, Need Immedia...   \n",
       "4                   Data Scientist - Noida/Bangalore   \n",
       "5                                     Data Scientist   \n",
       "6                              Senior Data Scientist   \n",
       "7                           Consulting and Analytics   \n",
       "8                              Senior Data Scientist   \n",
       "9                                     Data Scientist   \n",
       "\n",
       "                                        job-location company_name  \\\n",
       "0  Bangalore/Bengaluru, New Delhi, Hyderabad/Secu...  Tata Nexarc   \n",
       "1  Bangalore/Bengaluru, Kolkata, Mumbai, Hyderaba...    Accenture   \n",
       "2  Hybrid - Bangalore/Bengaluru, Noida, Kolkata, ...     Mindtree   \n",
       "3  Hybrid - Bangalore/Bengaluru, Pune, Gurgaon/Gu...   Citiustech   \n",
       "4                         Bangalore/Bengaluru, Noida          EXL   \n",
       "5                                Bangalore/Bengaluru      Infosys   \n",
       "6                                Bangalore/Bengaluru         Visa   \n",
       "7                                Bangalore/Bengaluru         Visa   \n",
       "8        Hybrid - Bangalore/Bengaluru, Pune, Chennai        Wipro   \n",
       "9  Bangalore/Bengaluru, Hyderabad/Secunderabad, P...       Altair   \n",
       "\n",
       "  experience_required  \n",
       "0             0-2 Yrs  \n",
       "1             0-2 Yrs  \n",
       "2             2-5 Yrs  \n",
       "3            5-10 Yrs  \n",
       "4             3-8 Yrs  \n",
       "5             5-8 Yrs  \n",
       "6            5-10 Yrs  \n",
       "7             2-7 Yrs  \n",
       "8             2-7 Yrs  \n",
       "9            5-10 Yrs  "
      ]
     },
     "execution_count": 31,
     "metadata": {},
     "output_type": "execute_result"
    }
   ],
   "source": [
    "table_final"
   ]
  },
  {
   "cell_type": "code",
   "execution_count": 32,
   "id": "5c2321d3",
   "metadata": {},
   "outputs": [],
   "source": [
    "#QUESTION 3"
   ]
  },
  {
   "cell_type": "code",
   "execution_count": 33,
   "id": "1ef1faa4",
   "metadata": {},
   "outputs": [],
   "source": [
    "url = ('https://www.naukri.com/')\n",
    "driver.get(url)"
   ]
  },
  {
   "cell_type": "code",
   "execution_count": 34,
   "id": "97e461c2",
   "metadata": {},
   "outputs": [],
   "source": [
    "designation = driver.find_element(By.CLASS_NAME,'suggestor-input ')\n",
    "designation.send_keys('Data Scientist')"
   ]
  },
  {
   "cell_type": "code",
   "execution_count": 35,
   "id": "c2e04912",
   "metadata": {},
   "outputs": [],
   "source": [
    "search = driver.find_element(By.CLASS_NAME,'qsbSubmit')\n",
    "search.click()"
   ]
  },
  {
   "cell_type": "code",
   "execution_count": 36,
   "id": "3aaae561",
   "metadata": {},
   "outputs": [],
   "source": [
    "loc = driver.find_element(By.XPATH,'/html/body/div[1]/div[4]/div/section[1]/div[2]/div[5]/div[2]/div[2]/label/i')\n",
    "loc.click()"
   ]
  },
  {
   "cell_type": "code",
   "execution_count": 37,
   "id": "f803d395",
   "metadata": {},
   "outputs": [],
   "source": [
    "sal = driver.find_element(By.XPATH,'/html/body/div[1]/div[4]/div/section[1]/div[2]/div[6]/div[2]/div[2]/label/i')\n",
    "sal.click()"
   ]
  },
  {
   "cell_type": "code",
   "execution_count": 38,
   "id": "35a0a4c2",
   "metadata": {},
   "outputs": [
    {
     "data": {
      "text/plain": [
       "13"
      ]
     },
     "execution_count": 38,
     "metadata": {},
     "output_type": "execute_result"
    }
   ],
   "source": [
    "job=[]\n",
    "for i in driver.find_elements(By.XPATH,\"//a[@class='title fw500 ellipsis']\"):\n",
    "    job.append(i.text)\n",
    "len(job)"
   ]
  },
  {
   "cell_type": "code",
   "execution_count": 39,
   "id": "a8506196",
   "metadata": {},
   "outputs": [
    {
     "data": {
      "text/plain": [
       "13"
      ]
     },
     "execution_count": 39,
     "metadata": {},
     "output_type": "execute_result"
    }
   ],
   "source": [
    "loc=[] \n",
    "for i in driver.find_elements(By.XPATH,\"//span[@class='ellipsis fleft fs12 lh16 locWdth']\"):\n",
    "    loc.append(i.text)\n",
    "len(loc)"
   ]
  },
  {
   "cell_type": "code",
   "execution_count": 40,
   "id": "d7d00df1",
   "metadata": {},
   "outputs": [
    {
     "data": {
      "text/plain": [
       "13"
      ]
     },
     "execution_count": 40,
     "metadata": {},
     "output_type": "execute_result"
    }
   ],
   "source": [
    "company = []\n",
    "for i in driver.find_elements(By.XPATH,\"//div[@class='mt-7 companyInfo subheading lh16']\"):\n",
    "    company.append(i.text.split('\\n')[0])\n",
    "len(company)"
   ]
  },
  {
   "cell_type": "code",
   "execution_count": 41,
   "id": "d8070220",
   "metadata": {},
   "outputs": [
    {
     "data": {
      "text/plain": [
       "13"
      ]
     },
     "execution_count": 41,
     "metadata": {},
     "output_type": "execute_result"
    }
   ],
   "source": [
    "exp=[]\n",
    "for i in driver.find_elements(By.XPATH,\"//span[@class='ellipsis fleft fs12 lh16 expwdth']\"):\n",
    "    exp.append(i.text)\n",
    "len(exp)"
   ]
  },
  {
   "cell_type": "code",
   "execution_count": 42,
   "id": "e6f07ef9",
   "metadata": {},
   "outputs": [],
   "source": [
    "table = pd.DataFrame({'job-title':job,\n",
    "                    'job-location':loc,\n",
    "                    'company_name':company,\n",
    "                    'experience_required':exp\n",
    "                    })"
   ]
  },
  {
   "cell_type": "code",
   "execution_count": 43,
   "id": "367915de",
   "metadata": {},
   "outputs": [],
   "source": [
    "table_final = table.head(10)"
   ]
  },
  {
   "cell_type": "code",
   "execution_count": 44,
   "id": "76b1a015",
   "metadata": {},
   "outputs": [
    {
     "data": {
      "text/html": [
       "<div>\n",
       "<style scoped>\n",
       "    .dataframe tbody tr th:only-of-type {\n",
       "        vertical-align: middle;\n",
       "    }\n",
       "\n",
       "    .dataframe tbody tr th {\n",
       "        vertical-align: top;\n",
       "    }\n",
       "\n",
       "    .dataframe thead th {\n",
       "        text-align: right;\n",
       "    }\n",
       "</style>\n",
       "<table border=\"1\" class=\"dataframe\">\n",
       "  <thead>\n",
       "    <tr style=\"text-align: right;\">\n",
       "      <th></th>\n",
       "      <th>job-title</th>\n",
       "      <th>job-location</th>\n",
       "      <th>company_name</th>\n",
       "      <th>experience_required</th>\n",
       "    </tr>\n",
       "  </thead>\n",
       "  <tbody>\n",
       "    <tr>\n",
       "      <th>0</th>\n",
       "      <td>Data Scientist - Noida/Bangalore</td>\n",
       "      <td>Noida, Bangalore/Bengaluru</td>\n",
       "      <td>EXL</td>\n",
       "      <td>5-10 Yrs</td>\n",
       "    </tr>\n",
       "    <tr>\n",
       "      <th>1</th>\n",
       "      <td>Data Scientist</td>\n",
       "      <td>Noida, Hyderabad/Secunderabad, Chennai, Bangal...</td>\n",
       "      <td>HCLTech</td>\n",
       "      <td>4-9 Yrs</td>\n",
       "    </tr>\n",
       "    <tr>\n",
       "      <th>2</th>\n",
       "      <td>DigitalBCG GAMMA Data Scientist</td>\n",
       "      <td>New Delhi, Bangalore/Bengaluru</td>\n",
       "      <td>Boston Consulting Group</td>\n",
       "      <td>2-5 Yrs</td>\n",
       "    </tr>\n",
       "    <tr>\n",
       "      <th>3</th>\n",
       "      <td>Urgent hiring For Data Scientist (PHD Must Have)</td>\n",
       "      <td>Temp. WFH - Noida, Pune</td>\n",
       "      <td>NGI Ventures</td>\n",
       "      <td>0-4 Yrs</td>\n",
       "    </tr>\n",
       "    <tr>\n",
       "      <th>4</th>\n",
       "      <td>Manager - Data Science - Banking&amp;Financial Ser...</td>\n",
       "      <td>Delhi / NCR, Bangalore/Bengaluru</td>\n",
       "      <td>Black Turtle</td>\n",
       "      <td>4-8 Yrs</td>\n",
       "    </tr>\n",
       "    <tr>\n",
       "      <th>5</th>\n",
       "      <td>Jr. Data Scientist</td>\n",
       "      <td>Noida</td>\n",
       "      <td>Dataflow</td>\n",
       "      <td>1-3 Yrs</td>\n",
       "    </tr>\n",
       "    <tr>\n",
       "      <th>6</th>\n",
       "      <td>Data Scientist / Sr. Data Scientist</td>\n",
       "      <td>Temp. WFH - Noida</td>\n",
       "      <td>Wegarner Solutions</td>\n",
       "      <td>3-8 Yrs</td>\n",
       "    </tr>\n",
       "    <tr>\n",
       "      <th>7</th>\n",
       "      <td>Data Scientist</td>\n",
       "      <td>Dehradun, Hyderabad/Secunderabad, Gurgaon/Guru...</td>\n",
       "      <td>torcai digital media</td>\n",
       "      <td>2-7 Yrs</td>\n",
       "    </tr>\n",
       "    <tr>\n",
       "      <th>8</th>\n",
       "      <td>Data Scientist</td>\n",
       "      <td>Noida</td>\n",
       "      <td>Meon Technologies</td>\n",
       "      <td>2-5 Yrs</td>\n",
       "    </tr>\n",
       "    <tr>\n",
       "      <th>9</th>\n",
       "      <td>Data Scientist</td>\n",
       "      <td>Noida</td>\n",
       "      <td>Alliance Recruitment Agency</td>\n",
       "      <td>3-4 Yrs</td>\n",
       "    </tr>\n",
       "  </tbody>\n",
       "</table>\n",
       "</div>"
      ],
      "text/plain": [
       "                                           job-title  \\\n",
       "0                   Data Scientist - Noida/Bangalore   \n",
       "1                                     Data Scientist   \n",
       "2                    DigitalBCG GAMMA Data Scientist   \n",
       "3   Urgent hiring For Data Scientist (PHD Must Have)   \n",
       "4  Manager - Data Science - Banking&Financial Ser...   \n",
       "5                                 Jr. Data Scientist   \n",
       "6                Data Scientist / Sr. Data Scientist   \n",
       "7                                     Data Scientist   \n",
       "8                                     Data Scientist   \n",
       "9                                     Data Scientist   \n",
       "\n",
       "                                        job-location  \\\n",
       "0                         Noida, Bangalore/Bengaluru   \n",
       "1  Noida, Hyderabad/Secunderabad, Chennai, Bangal...   \n",
       "2                     New Delhi, Bangalore/Bengaluru   \n",
       "3                            Temp. WFH - Noida, Pune   \n",
       "4                   Delhi / NCR, Bangalore/Bengaluru   \n",
       "5                                              Noida   \n",
       "6                                  Temp. WFH - Noida   \n",
       "7  Dehradun, Hyderabad/Secunderabad, Gurgaon/Guru...   \n",
       "8                                              Noida   \n",
       "9                                              Noida   \n",
       "\n",
       "                  company_name experience_required  \n",
       "0                          EXL            5-10 Yrs  \n",
       "1                      HCLTech             4-9 Yrs  \n",
       "2      Boston Consulting Group             2-5 Yrs  \n",
       "3                 NGI Ventures             0-4 Yrs  \n",
       "4                 Black Turtle             4-8 Yrs  \n",
       "5                     Dataflow             1-3 Yrs  \n",
       "6           Wegarner Solutions             3-8 Yrs  \n",
       "7         torcai digital media             2-7 Yrs  \n",
       "8            Meon Technologies             2-5 Yrs  \n",
       "9  Alliance Recruitment Agency             3-4 Yrs  "
      ]
     },
     "execution_count": 44,
     "metadata": {},
     "output_type": "execute_result"
    }
   ],
   "source": [
    "table_final"
   ]
  },
  {
   "cell_type": "code",
   "execution_count": 88,
   "id": "36f600cb",
   "metadata": {},
   "outputs": [],
   "source": [
    "#QUESTION 4"
   ]
  },
  {
   "cell_type": "code",
   "execution_count": 118,
   "id": "68bcb7ab",
   "metadata": {},
   "outputs": [],
   "source": [
    "url = ('https://www.flipkart.com/')\n",
    "driver.get(url)"
   ]
  },
  {
   "cell_type": "code",
   "execution_count": 119,
   "id": "766741d1",
   "metadata": {},
   "outputs": [],
   "source": [
    "search = driver.find_element(By.CLASS_NAME,'_3704LK')\n",
    "search.send_keys('sunglasses')"
   ]
  },
  {
   "cell_type": "code",
   "execution_count": 120,
   "id": "0bc3069a",
   "metadata": {},
   "outputs": [],
   "source": [
    "search = driver.find_element(By.CLASS_NAME,'L0Z3Pu')\n",
    "search.click()"
   ]
  },
  {
   "cell_type": "code",
   "execution_count": 121,
   "id": "e4bc7ac6",
   "metadata": {},
   "outputs": [],
   "source": [
    "brand = []\n",
    "desc = []\n",
    "price = []\n",
    "offer = []"
   ]
  },
  {
   "cell_type": "code",
   "execution_count": 122,
   "id": "00849507",
   "metadata": {},
   "outputs": [],
   "source": [
    "for i in driver.find_elements(By.XPATH,\"//div[@class='_2WkVRV']\"):\n",
    "    brand.append(i.text)\n",
    "for i in driver.find_elements(By.XPATH,\"//div[@class='_2B099V']\"):\n",
    "    desc.append(i.text.split('\\n')[1])\n",
    "for i in driver.find_elements(By.XPATH,\"//div[@class='_30jeq3']\"):\n",
    "    price.append(i.text)\n",
    "for i in driver.find_elements(By.XPATH,\"//div[@class='_3Ay6Sb']\"):\n",
    "    offer.append(i.text)"
   ]
  },
  {
   "cell_type": "code",
   "execution_count": 133,
   "id": "4f3417a4",
   "metadata": {},
   "outputs": [],
   "source": [
    "page = driver.find_element(By.CLASS_NAME,'_1LKTO3')\n",
    "page.click()"
   ]
  },
  {
   "cell_type": "code",
   "execution_count": 134,
   "id": "67dfab7a",
   "metadata": {},
   "outputs": [],
   "source": [
    "for i in driver.find_elements(By.XPATH,\"//div[@class='_2WkVRV']\"):\n",
    "    brand.append(i.text)\n",
    "for i in driver.find_elements(By.XPATH,\"//div[@class='_2B099V']\"):\n",
    "    desc.append(i.text.split('\\n')[1])\n",
    "for i in driver.find_elements(By.XPATH,\"//div[@class='_30jeq3']\"):\n",
    "    price.append(i.text)\n",
    "for i in driver.find_elements(By.XPATH,\"//div[@class='_3Ay6Sb']\"):\n",
    "    offer.append(i.text)"
   ]
  },
  {
   "cell_type": "code",
   "execution_count": 135,
   "id": "cbdf07e9",
   "metadata": {},
   "outputs": [],
   "source": [
    "page = driver.find_element(By.XPATH,'/html/body/div/div/div[3]/div[1]/div[2]/div[12]/div/div/nav/a[12]')\n",
    "page.click()"
   ]
  },
  {
   "cell_type": "code",
   "execution_count": 136,
   "id": "5830c5c5",
   "metadata": {},
   "outputs": [],
   "source": [
    "for i in driver.find_elements(By.XPATH,\"//div[@class='_2WkVRV']\"):\n",
    "    brand.append(i.text)\n",
    "for i in driver.find_elements(By.XPATH,\"//div[@class='_2B099V']\"):\n",
    "    desc.append(i.text.split('\\n')[1])\n",
    "for i in driver.find_elements(By.XPATH,\"//div[@class='_30jeq3']\"):\n",
    "    price.append(i.text)\n",
    "for i in driver.find_elements(By.XPATH,\"//div[@class='_3Ay6Sb']\"):\n",
    "    offer.append(i.text)"
   ]
  },
  {
   "cell_type": "code",
   "execution_count": 137,
   "id": "f2f73b69",
   "metadata": {},
   "outputs": [],
   "source": [
    "table = pd.DataFrame({'Brand':brand,\n",
    "                    'Product Description':desc,\n",
    "                    'Price':price,\n",
    "                    'Offer %':offer\n",
    "                    })"
   ]
  },
  {
   "cell_type": "code",
   "execution_count": 138,
   "id": "164d8f30",
   "metadata": {},
   "outputs": [
    {
     "data": {
      "text/html": [
       "<div>\n",
       "<style scoped>\n",
       "    .dataframe tbody tr th:only-of-type {\n",
       "        vertical-align: middle;\n",
       "    }\n",
       "\n",
       "    .dataframe tbody tr th {\n",
       "        vertical-align: top;\n",
       "    }\n",
       "\n",
       "    .dataframe thead th {\n",
       "        text-align: right;\n",
       "    }\n",
       "</style>\n",
       "<table border=\"1\" class=\"dataframe\">\n",
       "  <thead>\n",
       "    <tr style=\"text-align: right;\">\n",
       "      <th></th>\n",
       "      <th>Brand</th>\n",
       "      <th>Product Description</th>\n",
       "      <th>Price</th>\n",
       "      <th>Offer %</th>\n",
       "    </tr>\n",
       "  </thead>\n",
       "  <tbody>\n",
       "    <tr>\n",
       "      <th>0</th>\n",
       "      <td>ROZZETTA CRAFT</td>\n",
       "      <td>Polarized, UV Protection Aviator Sunglasses (55)</td>\n",
       "      <td>₹474</td>\n",
       "      <td>76% off</td>\n",
       "    </tr>\n",
       "    <tr>\n",
       "      <th>1</th>\n",
       "      <td>GANSTA</td>\n",
       "      <td>Gradient, UV Protection Aviator Sunglasses (57)</td>\n",
       "      <td>₹296</td>\n",
       "      <td>85% off</td>\n",
       "    </tr>\n",
       "    <tr>\n",
       "      <th>2</th>\n",
       "      <td>Fastrack</td>\n",
       "      <td>UV Protection Wayfarer Sunglasses (Free Size)</td>\n",
       "      <td>₹599</td>\n",
       "      <td>40% off</td>\n",
       "    </tr>\n",
       "    <tr>\n",
       "      <th>3</th>\n",
       "      <td>Fastrack</td>\n",
       "      <td>UV Protection Rectangular Sunglasses (Free Size)</td>\n",
       "      <td>₹479</td>\n",
       "      <td>40% off</td>\n",
       "    </tr>\n",
       "    <tr>\n",
       "      <th>4</th>\n",
       "      <td>SRPM</td>\n",
       "      <td>UV Protection Wayfarer Sunglasses (50)</td>\n",
       "      <td>₹149</td>\n",
       "      <td>88% off</td>\n",
       "    </tr>\n",
       "    <tr>\n",
       "      <th>...</th>\n",
       "      <td>...</td>\n",
       "      <td>...</td>\n",
       "      <td>...</td>\n",
       "      <td>...</td>\n",
       "    </tr>\n",
       "    <tr>\n",
       "      <th>95</th>\n",
       "      <td>LIZA ANGEL</td>\n",
       "      <td>Riding Glasses, UV Protection, Night Vision Sp...</td>\n",
       "      <td>₹179</td>\n",
       "      <td>64% off</td>\n",
       "    </tr>\n",
       "    <tr>\n",
       "      <th>96</th>\n",
       "      <td>Fair-x</td>\n",
       "      <td>UV Protection Aviator Sunglasses (58)</td>\n",
       "      <td>₹227</td>\n",
       "      <td>77% off</td>\n",
       "    </tr>\n",
       "    <tr>\n",
       "      <th>97</th>\n",
       "      <td>ROZZETTA CRAFT</td>\n",
       "      <td>Polarized, UV Protection Rectangular Sunglasse...</td>\n",
       "      <td>₹569</td>\n",
       "      <td>77% off</td>\n",
       "    </tr>\n",
       "    <tr>\n",
       "      <th>98</th>\n",
       "      <td>Elligator</td>\n",
       "      <td>Others Cat-eye, Retro Square, Wayfarer Sunglas...</td>\n",
       "      <td>₹197</td>\n",
       "      <td>83% off</td>\n",
       "    </tr>\n",
       "    <tr>\n",
       "      <th>99</th>\n",
       "      <td>Fastrack</td>\n",
       "      <td>UV Protection Shield Sunglasses (Free Size)</td>\n",
       "      <td>₹539</td>\n",
       "      <td>40% off</td>\n",
       "    </tr>\n",
       "  </tbody>\n",
       "</table>\n",
       "<p>100 rows × 4 columns</p>\n",
       "</div>"
      ],
      "text/plain": [
       "             Brand                                Product Description Price  \\\n",
       "0   ROZZETTA CRAFT   Polarized, UV Protection Aviator Sunglasses (55)  ₹474   \n",
       "1           GANSTA    Gradient, UV Protection Aviator Sunglasses (57)  ₹296   \n",
       "2         Fastrack      UV Protection Wayfarer Sunglasses (Free Size)  ₹599   \n",
       "3         Fastrack   UV Protection Rectangular Sunglasses (Free Size)  ₹479   \n",
       "4             SRPM             UV Protection Wayfarer Sunglasses (50)  ₹149   \n",
       "..             ...                                                ...   ...   \n",
       "95      LIZA ANGEL  Riding Glasses, UV Protection, Night Vision Sp...  ₹179   \n",
       "96          Fair-x              UV Protection Aviator Sunglasses (58)  ₹227   \n",
       "97  ROZZETTA CRAFT  Polarized, UV Protection Rectangular Sunglasse...  ₹569   \n",
       "98       Elligator  Others Cat-eye, Retro Square, Wayfarer Sunglas...  ₹197   \n",
       "99        Fastrack        UV Protection Shield Sunglasses (Free Size)  ₹539   \n",
       "\n",
       "    Offer %  \n",
       "0   76% off  \n",
       "1   85% off  \n",
       "2   40% off  \n",
       "3   40% off  \n",
       "4   88% off  \n",
       "..      ...  \n",
       "95  64% off  \n",
       "96  77% off  \n",
       "97  77% off  \n",
       "98  83% off  \n",
       "99  40% off  \n",
       "\n",
       "[100 rows x 4 columns]"
      ]
     },
     "execution_count": 138,
     "metadata": {},
     "output_type": "execute_result"
    }
   ],
   "source": [
    "Table_final = table.head(100)\n",
    "Table_final"
   ]
  },
  {
   "cell_type": "code",
   "execution_count": null,
   "id": "aca1556b",
   "metadata": {},
   "outputs": [],
   "source": [
    "#QUESTION 5"
   ]
  },
  {
   "cell_type": "code",
   "execution_count": 63,
   "id": "e2dd89d9",
   "metadata": {},
   "outputs": [],
   "source": [
    "rating = []\n",
    "small = []\n",
    "full = []"
   ]
  },
  {
   "cell_type": "code",
   "execution_count": 68,
   "id": "7c429b9d",
   "metadata": {},
   "outputs": [],
   "source": [
    "url = 'https://www.flipkart.com/apple-iphone-11-black-64-gb/product-reviews/itm4e5041ba101fd?pid=MOBFWQ6BXGJCEYNY&lid=LSTMOBFWQ6BXGJCEYNYZXSHRJ&marketplace=FLIPKART&page='\n",
    "for j in range(1,13):\n",
    "    driver.get(url+str(j))\n",
    "    for i in driver.find_elements(By.XPATH,\"//div[@class='_3LWZlK _1BLPMq']\"):\n",
    "        rating.append(i.text)\n",
    "    for i in driver.find_elements(By.XPATH,\"//p[@class='_2-N8zT']\"):\n",
    "        small.append(i.text)\n",
    "    for i in driver.find_elements(By.XPATH,\"//div[@class='t-ZTKy']\"):\n",
    "        full.append(i.text)"
   ]
  },
  {
   "cell_type": "code",
   "execution_count": 69,
   "id": "7e49455d",
   "metadata": {},
   "outputs": [
    {
     "data": {
      "text/plain": [
       "(224, 232, 232)"
      ]
     },
     "execution_count": 69,
     "metadata": {},
     "output_type": "execute_result"
    }
   ],
   "source": [
    "len(rating),len(small),len(full)"
   ]
  },
  {
   "cell_type": "code",
   "execution_count": 70,
   "id": "c1a148ce",
   "metadata": {},
   "outputs": [
    {
     "ename": "ValueError",
     "evalue": "All arrays must be of the same length",
     "output_type": "error",
     "traceback": [
      "\u001b[1;31m---------------------------------------------------------------------------\u001b[0m",
      "\u001b[1;31mValueError\u001b[0m                                Traceback (most recent call last)",
      "Input \u001b[1;32mIn [70]\u001b[0m, in \u001b[0;36m<cell line: 1>\u001b[1;34m()\u001b[0m\n\u001b[1;32m----> 1\u001b[0m table \u001b[38;5;241m=\u001b[39m \u001b[43mpd\u001b[49m\u001b[38;5;241;43m.\u001b[39;49m\u001b[43mDataFrame\u001b[49m\u001b[43m(\u001b[49m\u001b[43m{\u001b[49m\u001b[38;5;124;43m'\u001b[39;49m\u001b[38;5;124;43mRating\u001b[39;49m\u001b[38;5;124;43m'\u001b[39;49m\u001b[43m:\u001b[49m\u001b[43mrating\u001b[49m\u001b[43m,\u001b[49m\n\u001b[0;32m      2\u001b[0m \u001b[43m                    \u001b[49m\u001b[38;5;124;43m'\u001b[39;49m\u001b[38;5;124;43mReview Summary\u001b[39;49m\u001b[38;5;124;43m'\u001b[39;49m\u001b[43m:\u001b[49m\u001b[43msmall\u001b[49m\u001b[43m,\u001b[49m\n\u001b[0;32m      3\u001b[0m \u001b[43m                    \u001b[49m\u001b[38;5;124;43m'\u001b[39;49m\u001b[38;5;124;43mFull Review\u001b[39;49m\u001b[38;5;124;43m'\u001b[39;49m\u001b[43m:\u001b[49m\u001b[43mfull\u001b[49m\n\u001b[0;32m      4\u001b[0m \u001b[43m                    \u001b[49m\u001b[43m}\u001b[49m\u001b[43m)\u001b[49m\n",
      "File \u001b[1;32m~\\Anaconda3\\lib\\site-packages\\pandas\\core\\frame.py:636\u001b[0m, in \u001b[0;36mDataFrame.__init__\u001b[1;34m(self, data, index, columns, dtype, copy)\u001b[0m\n\u001b[0;32m    630\u001b[0m     mgr \u001b[38;5;241m=\u001b[39m \u001b[38;5;28mself\u001b[39m\u001b[38;5;241m.\u001b[39m_init_mgr(\n\u001b[0;32m    631\u001b[0m         data, axes\u001b[38;5;241m=\u001b[39m{\u001b[38;5;124m\"\u001b[39m\u001b[38;5;124mindex\u001b[39m\u001b[38;5;124m\"\u001b[39m: index, \u001b[38;5;124m\"\u001b[39m\u001b[38;5;124mcolumns\u001b[39m\u001b[38;5;124m\"\u001b[39m: columns}, dtype\u001b[38;5;241m=\u001b[39mdtype, copy\u001b[38;5;241m=\u001b[39mcopy\n\u001b[0;32m    632\u001b[0m     )\n\u001b[0;32m    634\u001b[0m \u001b[38;5;28;01melif\u001b[39;00m \u001b[38;5;28misinstance\u001b[39m(data, \u001b[38;5;28mdict\u001b[39m):\n\u001b[0;32m    635\u001b[0m     \u001b[38;5;66;03m# GH#38939 de facto copy defaults to False only in non-dict cases\u001b[39;00m\n\u001b[1;32m--> 636\u001b[0m     mgr \u001b[38;5;241m=\u001b[39m \u001b[43mdict_to_mgr\u001b[49m\u001b[43m(\u001b[49m\u001b[43mdata\u001b[49m\u001b[43m,\u001b[49m\u001b[43m \u001b[49m\u001b[43mindex\u001b[49m\u001b[43m,\u001b[49m\u001b[43m \u001b[49m\u001b[43mcolumns\u001b[49m\u001b[43m,\u001b[49m\u001b[43m \u001b[49m\u001b[43mdtype\u001b[49m\u001b[38;5;241;43m=\u001b[39;49m\u001b[43mdtype\u001b[49m\u001b[43m,\u001b[49m\u001b[43m \u001b[49m\u001b[43mcopy\u001b[49m\u001b[38;5;241;43m=\u001b[39;49m\u001b[43mcopy\u001b[49m\u001b[43m,\u001b[49m\u001b[43m \u001b[49m\u001b[43mtyp\u001b[49m\u001b[38;5;241;43m=\u001b[39;49m\u001b[43mmanager\u001b[49m\u001b[43m)\u001b[49m\n\u001b[0;32m    637\u001b[0m \u001b[38;5;28;01melif\u001b[39;00m \u001b[38;5;28misinstance\u001b[39m(data, ma\u001b[38;5;241m.\u001b[39mMaskedArray):\n\u001b[0;32m    638\u001b[0m     \u001b[38;5;28;01mimport\u001b[39;00m \u001b[38;5;21;01mnumpy\u001b[39;00m\u001b[38;5;21;01m.\u001b[39;00m\u001b[38;5;21;01mma\u001b[39;00m\u001b[38;5;21;01m.\u001b[39;00m\u001b[38;5;21;01mmrecords\u001b[39;00m \u001b[38;5;28;01mas\u001b[39;00m \u001b[38;5;21;01mmrecords\u001b[39;00m\n",
      "File \u001b[1;32m~\\Anaconda3\\lib\\site-packages\\pandas\\core\\internals\\construction.py:502\u001b[0m, in \u001b[0;36mdict_to_mgr\u001b[1;34m(data, index, columns, dtype, typ, copy)\u001b[0m\n\u001b[0;32m    494\u001b[0m     arrays \u001b[38;5;241m=\u001b[39m [\n\u001b[0;32m    495\u001b[0m         x\n\u001b[0;32m    496\u001b[0m         \u001b[38;5;28;01mif\u001b[39;00m \u001b[38;5;129;01mnot\u001b[39;00m \u001b[38;5;28mhasattr\u001b[39m(x, \u001b[38;5;124m\"\u001b[39m\u001b[38;5;124mdtype\u001b[39m\u001b[38;5;124m\"\u001b[39m) \u001b[38;5;129;01mor\u001b[39;00m \u001b[38;5;129;01mnot\u001b[39;00m \u001b[38;5;28misinstance\u001b[39m(x\u001b[38;5;241m.\u001b[39mdtype, ExtensionDtype)\n\u001b[0;32m    497\u001b[0m         \u001b[38;5;28;01melse\u001b[39;00m x\u001b[38;5;241m.\u001b[39mcopy()\n\u001b[0;32m    498\u001b[0m         \u001b[38;5;28;01mfor\u001b[39;00m x \u001b[38;5;129;01min\u001b[39;00m arrays\n\u001b[0;32m    499\u001b[0m     ]\n\u001b[0;32m    500\u001b[0m     \u001b[38;5;66;03m# TODO: can we get rid of the dt64tz special case above?\u001b[39;00m\n\u001b[1;32m--> 502\u001b[0m \u001b[38;5;28;01mreturn\u001b[39;00m \u001b[43marrays_to_mgr\u001b[49m\u001b[43m(\u001b[49m\u001b[43marrays\u001b[49m\u001b[43m,\u001b[49m\u001b[43m \u001b[49m\u001b[43mcolumns\u001b[49m\u001b[43m,\u001b[49m\u001b[43m \u001b[49m\u001b[43mindex\u001b[49m\u001b[43m,\u001b[49m\u001b[43m \u001b[49m\u001b[43mdtype\u001b[49m\u001b[38;5;241;43m=\u001b[39;49m\u001b[43mdtype\u001b[49m\u001b[43m,\u001b[49m\u001b[43m \u001b[49m\u001b[43mtyp\u001b[49m\u001b[38;5;241;43m=\u001b[39;49m\u001b[43mtyp\u001b[49m\u001b[43m,\u001b[49m\u001b[43m \u001b[49m\u001b[43mconsolidate\u001b[49m\u001b[38;5;241;43m=\u001b[39;49m\u001b[43mcopy\u001b[49m\u001b[43m)\u001b[49m\n",
      "File \u001b[1;32m~\\Anaconda3\\lib\\site-packages\\pandas\\core\\internals\\construction.py:120\u001b[0m, in \u001b[0;36marrays_to_mgr\u001b[1;34m(arrays, columns, index, dtype, verify_integrity, typ, consolidate)\u001b[0m\n\u001b[0;32m    117\u001b[0m \u001b[38;5;28;01mif\u001b[39;00m verify_integrity:\n\u001b[0;32m    118\u001b[0m     \u001b[38;5;66;03m# figure out the index, if necessary\u001b[39;00m\n\u001b[0;32m    119\u001b[0m     \u001b[38;5;28;01mif\u001b[39;00m index \u001b[38;5;129;01mis\u001b[39;00m \u001b[38;5;28;01mNone\u001b[39;00m:\n\u001b[1;32m--> 120\u001b[0m         index \u001b[38;5;241m=\u001b[39m \u001b[43m_extract_index\u001b[49m\u001b[43m(\u001b[49m\u001b[43marrays\u001b[49m\u001b[43m)\u001b[49m\n\u001b[0;32m    121\u001b[0m     \u001b[38;5;28;01melse\u001b[39;00m:\n\u001b[0;32m    122\u001b[0m         index \u001b[38;5;241m=\u001b[39m ensure_index(index)\n",
      "File \u001b[1;32m~\\Anaconda3\\lib\\site-packages\\pandas\\core\\internals\\construction.py:674\u001b[0m, in \u001b[0;36m_extract_index\u001b[1;34m(data)\u001b[0m\n\u001b[0;32m    672\u001b[0m lengths \u001b[38;5;241m=\u001b[39m \u001b[38;5;28mlist\u001b[39m(\u001b[38;5;28mset\u001b[39m(raw_lengths))\n\u001b[0;32m    673\u001b[0m \u001b[38;5;28;01mif\u001b[39;00m \u001b[38;5;28mlen\u001b[39m(lengths) \u001b[38;5;241m>\u001b[39m \u001b[38;5;241m1\u001b[39m:\n\u001b[1;32m--> 674\u001b[0m     \u001b[38;5;28;01mraise\u001b[39;00m \u001b[38;5;167;01mValueError\u001b[39;00m(\u001b[38;5;124m\"\u001b[39m\u001b[38;5;124mAll arrays must be of the same length\u001b[39m\u001b[38;5;124m\"\u001b[39m)\n\u001b[0;32m    676\u001b[0m \u001b[38;5;28;01mif\u001b[39;00m have_dicts:\n\u001b[0;32m    677\u001b[0m     \u001b[38;5;28;01mraise\u001b[39;00m \u001b[38;5;167;01mValueError\u001b[39;00m(\n\u001b[0;32m    678\u001b[0m         \u001b[38;5;124m\"\u001b[39m\u001b[38;5;124mMixing dicts with non-Series may lead to ambiguous ordering.\u001b[39m\u001b[38;5;124m\"\u001b[39m\n\u001b[0;32m    679\u001b[0m     )\n",
      "\u001b[1;31mValueError\u001b[0m: All arrays must be of the same length"
     ]
    }
   ],
   "source": [
    "table = pd.DataFrame({'Rating':rating,\n",
    "                    'Review Summary':small,\n",
    "                    'Full Review':full\n",
    "                    })"
   ]
  },
  {
   "cell_type": "code",
   "execution_count": null,
   "id": "d03d8667",
   "metadata": {},
   "outputs": [],
   "source": [
    "Table_final = table.head(100)\n",
    "Table_final"
   ]
  },
  {
   "cell_type": "code",
   "execution_count": null,
   "id": "70de6b14",
   "metadata": {},
   "outputs": [],
   "source": [
    "#QUESTION 6"
   ]
  },
  {
   "cell_type": "code",
   "execution_count": 71,
   "id": "54138c42",
   "metadata": {},
   "outputs": [],
   "source": [
    "url = ('https://www.flipkart.com/')\n",
    "driver.get(url)"
   ]
  },
  {
   "cell_type": "code",
   "execution_count": 72,
   "id": "0425490a",
   "metadata": {},
   "outputs": [],
   "source": [
    "search = driver.find_element(By.CLASS_NAME,'_3704LK')\n",
    "search.send_keys('sneakers')"
   ]
  },
  {
   "cell_type": "code",
   "execution_count": 73,
   "id": "1570534f",
   "metadata": {},
   "outputs": [],
   "source": [
    "search = driver.find_element(By.CLASS_NAME,'L0Z3Pu')\n",
    "search.click()"
   ]
  },
  {
   "cell_type": "code",
   "execution_count": 108,
   "id": "c8ce6c49",
   "metadata": {},
   "outputs": [],
   "source": [
    "brand = []\n",
    "desc = []\n",
    "price = []\n",
    "offer = []"
   ]
  },
  {
   "cell_type": "code",
   "execution_count": 109,
   "id": "80bc43dd",
   "metadata": {},
   "outputs": [],
   "source": [
    "url = 'https://www.flipkart.com/search?q=sneakers&otracker=search&otracker1=search&marketplace=FLIPKART&as-show=on&as=off&page='\n",
    "for j in range(1,5):\n",
    "    driver.get(url+str(j))\n",
    "    for i in driver.find_elements(By.XPATH,\"//div[@class='_2WkVRV']\"):\n",
    "        brand.append(i.text)\n",
    "    for i in driver.find_elements(By.XPATH,\"//div[@class='_2B099V']\"):\n",
    "        desc.append(i.text.split('\\n')[1])\n",
    "    for i in driver.find_elements(By.XPATH,\"//div[@class='_30jeq3']\"):\n",
    "        price.append(i.text)\n",
    "    for i in driver.find_elements(By.XPATH,\"//div[@class='_3Ay6Sb']\"):\n",
    "        offer.append(i.text)"
   ]
  },
  {
   "cell_type": "code",
   "execution_count": 111,
   "id": "9a11c62f",
   "metadata": {},
   "outputs": [
    {
     "data": {
      "text/plain": [
       "(160, 160, 160, 159)"
      ]
     },
     "execution_count": 111,
     "metadata": {},
     "output_type": "execute_result"
    }
   ],
   "source": [
    "len(brand),len(desc),len(price),len(offer)"
   ]
  },
  {
   "cell_type": "code",
   "execution_count": 113,
   "id": "544a0b3a",
   "metadata": {},
   "outputs": [],
   "source": [
    "table = pd.DataFrame({'Brand':brand,\n",
    "                    'Product Description':desc,\n",
    "                    'Price':price,\n",
    "                    'Offer %':offer\n",
    "                    })"
   ]
  },
  {
   "cell_type": "code",
   "execution_count": 114,
   "id": "f65b83b0",
   "metadata": {},
   "outputs": [
    {
     "data": {
      "text/html": [
       "<div>\n",
       "<style scoped>\n",
       "    .dataframe tbody tr th:only-of-type {\n",
       "        vertical-align: middle;\n",
       "    }\n",
       "\n",
       "    .dataframe tbody tr th {\n",
       "        vertical-align: top;\n",
       "    }\n",
       "\n",
       "    .dataframe thead th {\n",
       "        text-align: right;\n",
       "    }\n",
       "</style>\n",
       "<table border=\"1\" class=\"dataframe\">\n",
       "  <thead>\n",
       "    <tr style=\"text-align: right;\">\n",
       "      <th></th>\n",
       "      <th>Brand</th>\n",
       "      <th>Product Description</th>\n",
       "      <th>Price</th>\n",
       "    </tr>\n",
       "  </thead>\n",
       "  <tbody>\n",
       "    <tr>\n",
       "      <th>0</th>\n",
       "      <td>COOPERWINGS</td>\n",
       "      <td>Sneakers For Men</td>\n",
       "      <td>₹399</td>\n",
       "    </tr>\n",
       "    <tr>\n",
       "      <th>1</th>\n",
       "      <td>Deals4you</td>\n",
       "      <td>Sneakers For Women</td>\n",
       "      <td>₹299</td>\n",
       "    </tr>\n",
       "    <tr>\n",
       "      <th>2</th>\n",
       "      <td>aadi</td>\n",
       "      <td>Mesh | Ultralightweight | Comfortable | Breath...</td>\n",
       "      <td>₹299</td>\n",
       "    </tr>\n",
       "    <tr>\n",
       "      <th>3</th>\n",
       "      <td>Labbin</td>\n",
       "      <td>Sneakers For Men</td>\n",
       "      <td>₹395</td>\n",
       "    </tr>\n",
       "    <tr>\n",
       "      <th>4</th>\n",
       "      <td>BRUTON</td>\n",
       "      <td>Modern Trendy Shoes Sneakers For Men</td>\n",
       "      <td>₹229</td>\n",
       "    </tr>\n",
       "    <tr>\n",
       "      <th>...</th>\n",
       "      <td>...</td>\n",
       "      <td>...</td>\n",
       "      <td>...</td>\n",
       "    </tr>\n",
       "    <tr>\n",
       "      <th>95</th>\n",
       "      <td>RINDAS</td>\n",
       "      <td>Perfect Stylish Casual Shoes For Girls &amp; Women...</td>\n",
       "      <td>₹298</td>\n",
       "    </tr>\n",
       "    <tr>\n",
       "      <th>96</th>\n",
       "      <td>Zixer</td>\n",
       "      <td>Sneakers Dancing Shoes/Street Dancing Shoe For...</td>\n",
       "      <td>₹565</td>\n",
       "    </tr>\n",
       "    <tr>\n",
       "      <th>97</th>\n",
       "      <td>Zixer</td>\n",
       "      <td>Exclusive dancing shoe for boy's, Funky dancin...</td>\n",
       "      <td>₹565</td>\n",
       "    </tr>\n",
       "    <tr>\n",
       "      <th>98</th>\n",
       "      <td>BRUTON</td>\n",
       "      <td>Modern &amp; Trendy Collection Combo Pack of 02 Sh...</td>\n",
       "      <td>₹470</td>\n",
       "    </tr>\n",
       "    <tr>\n",
       "      <th>99</th>\n",
       "      <td>bacca bucci</td>\n",
       "      <td>ILLUSION Hi-Top Street Fashion Sneakers with R...</td>\n",
       "      <td>₹1,799</td>\n",
       "    </tr>\n",
       "  </tbody>\n",
       "</table>\n",
       "<p>100 rows × 3 columns</p>\n",
       "</div>"
      ],
      "text/plain": [
       "          Brand                                Product Description   Price\n",
       "0   COOPERWINGS                                   Sneakers For Men    ₹399\n",
       "1     Deals4you                                 Sneakers For Women    ₹299\n",
       "2          aadi  Mesh | Ultralightweight | Comfortable | Breath...    ₹299\n",
       "3        Labbin                                   Sneakers For Men    ₹395\n",
       "4        BRUTON               Modern Trendy Shoes Sneakers For Men    ₹229\n",
       "..          ...                                                ...     ...\n",
       "95       RINDAS  Perfect Stylish Casual Shoes For Girls & Women...    ₹298\n",
       "96        Zixer  Sneakers Dancing Shoes/Street Dancing Shoe For...    ₹565\n",
       "97        Zixer  Exclusive dancing shoe for boy's, Funky dancin...    ₹565\n",
       "98       BRUTON  Modern & Trendy Collection Combo Pack of 02 Sh...    ₹470\n",
       "99  bacca bucci  ILLUSION Hi-Top Street Fashion Sneakers with R...  ₹1,799\n",
       "\n",
       "[100 rows x 3 columns]"
      ]
     },
     "execution_count": 114,
     "metadata": {},
     "output_type": "execute_result"
    }
   ],
   "source": [
    "Table_final = table.head(100)\n",
    "Table_final"
   ]
  },
  {
   "cell_type": "code",
   "execution_count": null,
   "id": "0086c31d",
   "metadata": {},
   "outputs": [],
   "source": [
    "#QUESTION 7"
   ]
  },
  {
   "cell_type": "code",
   "execution_count": 124,
   "id": "db1c80f6",
   "metadata": {},
   "outputs": [],
   "source": [
    "url = ('https://www.myntra.com/shoes')\n",
    "driver.get(url)"
   ]
  },
  {
   "cell_type": "code",
   "execution_count": 128,
   "id": "2d3116fd",
   "metadata": {},
   "outputs": [],
   "source": [
    "price = driver.find_element(By.XPATH,'/html/body/div[2]/div/main/div[3]/div[1]/section/div/div[5]/ul/li[2]/label/div')\n",
    "price.click()"
   ]
  },
  {
   "cell_type": "code",
   "execution_count": 127,
   "id": "2324544a",
   "metadata": {},
   "outputs": [],
   "source": [
    "colour = driver.find_element(By.XPATH,'/html/body/div[2]/div/main/div[3]/div[1]/section/div/div[6]/ul/li[1]/label/div')\n",
    "colour.click()"
   ]
  },
  {
   "cell_type": "code",
   "execution_count": 129,
   "id": "2333b60d",
   "metadata": {},
   "outputs": [],
   "source": [
    "brand = []\n",
    "desc = []\n",
    "price = []"
   ]
  },
  {
   "cell_type": "code",
   "execution_count": 130,
   "id": "664f64c2",
   "metadata": {},
   "outputs": [],
   "source": [
    "for j in range(1,5):\n",
    "    for i in driver.find_elements(By.XPATH,\"//h3[@class='product-brand']\"):\n",
    "        brand.append(i.text)\n",
    "    for i in driver.find_elements(By.XPATH,\"//h4[@class='product-product']\"):\n",
    "        desc.append(i.text)\n",
    "    for i in driver.find_elements(By.XPATH,\"//div[@class='product-price']\"):\n",
    "        price.append(i.text)"
   ]
  },
  {
   "cell_type": "code",
   "execution_count": 131,
   "id": "f5fdef98",
   "metadata": {},
   "outputs": [
    {
     "data": {
      "text/plain": [
       "(200, 200, 200)"
      ]
     },
     "execution_count": 131,
     "metadata": {},
     "output_type": "execute_result"
    }
   ],
   "source": [
    "len(brand),len(desc),len(price)"
   ]
  },
  {
   "cell_type": "code",
   "execution_count": 132,
   "id": "93314a67",
   "metadata": {},
   "outputs": [],
   "source": [
    "table = pd.DataFrame({'Brand':brand,\n",
    "                    'Product Description':desc,\n",
    "                    'Price':price\n",
    "                    })"
   ]
  },
  {
   "cell_type": "code",
   "execution_count": 133,
   "id": "11ac47c5",
   "metadata": {},
   "outputs": [
    {
     "data": {
      "text/html": [
       "<div>\n",
       "<style scoped>\n",
       "    .dataframe tbody tr th:only-of-type {\n",
       "        vertical-align: middle;\n",
       "    }\n",
       "\n",
       "    .dataframe tbody tr th {\n",
       "        vertical-align: top;\n",
       "    }\n",
       "\n",
       "    .dataframe thead th {\n",
       "        text-align: right;\n",
       "    }\n",
       "</style>\n",
       "<table border=\"1\" class=\"dataframe\">\n",
       "  <thead>\n",
       "    <tr style=\"text-align: right;\">\n",
       "      <th></th>\n",
       "      <th>Brand</th>\n",
       "      <th>Product Description</th>\n",
       "      <th>Price</th>\n",
       "    </tr>\n",
       "  </thead>\n",
       "  <tbody>\n",
       "    <tr>\n",
       "      <th>0</th>\n",
       "      <td>UNDER ARMOUR</td>\n",
       "      <td>Unisex Spawn 4 Basketball</td>\n",
       "      <td>Rs. 8799Rs. 10999(20% OFF)</td>\n",
       "    </tr>\n",
       "    <tr>\n",
       "      <th>1</th>\n",
       "      <td>ADIDAS Originals</td>\n",
       "      <td>Men Woven Nmd_R1 Sneakers</td>\n",
       "      <td>Rs. 12999</td>\n",
       "    </tr>\n",
       "    <tr>\n",
       "      <th>2</th>\n",
       "      <td>Nike</td>\n",
       "      <td>JORDAN MAX AURA 4 Shoes</td>\n",
       "      <td>Rs. 10165Rs. 11295(10% OFF)</td>\n",
       "    </tr>\n",
       "    <tr>\n",
       "      <th>3</th>\n",
       "      <td>Nike</td>\n",
       "      <td>Men Jumpman Basketball Shoes</td>\n",
       "      <td>Rs. 12595Rs. 13995(10% OFF)</td>\n",
       "    </tr>\n",
       "    <tr>\n",
       "      <th>4</th>\n",
       "      <td>Xtep</td>\n",
       "      <td>Men Skateboarding Shoes</td>\n",
       "      <td>Rs. 8599</td>\n",
       "    </tr>\n",
       "    <tr>\n",
       "      <th>...</th>\n",
       "      <td>...</td>\n",
       "      <td>...</td>\n",
       "      <td>...</td>\n",
       "    </tr>\n",
       "    <tr>\n",
       "      <th>95</th>\n",
       "      <td>ADIDAS</td>\n",
       "      <td>Men Runner Fl Running Shoes</td>\n",
       "      <td>Rs. 12749Rs. 14999(15% OFF)</td>\n",
       "    </tr>\n",
       "    <tr>\n",
       "      <th>96</th>\n",
       "      <td>ALDO</td>\n",
       "      <td>Women Solid Lug Boots</td>\n",
       "      <td>Rs. 13999</td>\n",
       "    </tr>\n",
       "    <tr>\n",
       "      <th>97</th>\n",
       "      <td>ADIDAS</td>\n",
       "      <td>Men Response Super 3.0 Run</td>\n",
       "      <td>Rs. 8099Rs. 8999(10% OFF)</td>\n",
       "    </tr>\n",
       "    <tr>\n",
       "      <th>98</th>\n",
       "      <td>Nike</td>\n",
       "      <td>Women AIR ZOOM Running Shoes</td>\n",
       "      <td>Rs. 7721Rs. 10295(25% OFF)</td>\n",
       "    </tr>\n",
       "    <tr>\n",
       "      <th>99</th>\n",
       "      <td>Puma</td>\n",
       "      <td>Men Velocity Running Shoes</td>\n",
       "      <td>Rs. 7799Rs. 11999(35% OFF)</td>\n",
       "    </tr>\n",
       "  </tbody>\n",
       "</table>\n",
       "<p>100 rows × 3 columns</p>\n",
       "</div>"
      ],
      "text/plain": [
       "               Brand           Product Description  \\\n",
       "0       UNDER ARMOUR     Unisex Spawn 4 Basketball   \n",
       "1   ADIDAS Originals     Men Woven Nmd_R1 Sneakers   \n",
       "2               Nike       JORDAN MAX AURA 4 Shoes   \n",
       "3               Nike  Men Jumpman Basketball Shoes   \n",
       "4               Xtep       Men Skateboarding Shoes   \n",
       "..               ...                           ...   \n",
       "95            ADIDAS   Men Runner Fl Running Shoes   \n",
       "96              ALDO         Women Solid Lug Boots   \n",
       "97            ADIDAS    Men Response Super 3.0 Run   \n",
       "98              Nike  Women AIR ZOOM Running Shoes   \n",
       "99              Puma    Men Velocity Running Shoes   \n",
       "\n",
       "                          Price  \n",
       "0    Rs. 8799Rs. 10999(20% OFF)  \n",
       "1                     Rs. 12999  \n",
       "2   Rs. 10165Rs. 11295(10% OFF)  \n",
       "3   Rs. 12595Rs. 13995(10% OFF)  \n",
       "4                      Rs. 8599  \n",
       "..                          ...  \n",
       "95  Rs. 12749Rs. 14999(15% OFF)  \n",
       "96                    Rs. 13999  \n",
       "97    Rs. 8099Rs. 8999(10% OFF)  \n",
       "98   Rs. 7721Rs. 10295(25% OFF)  \n",
       "99   Rs. 7799Rs. 11999(35% OFF)  \n",
       "\n",
       "[100 rows x 3 columns]"
      ]
     },
     "execution_count": 133,
     "metadata": {},
     "output_type": "execute_result"
    }
   ],
   "source": [
    "Table_final = table.head(100)\n",
    "Table_final"
   ]
  },
  {
   "cell_type": "code",
   "execution_count": null,
   "id": "7d07b467",
   "metadata": {},
   "outputs": [],
   "source": [
    "#QUESTION 8"
   ]
  },
  {
   "cell_type": "code",
   "execution_count": 145,
   "id": "8dba3e90",
   "metadata": {},
   "outputs": [],
   "source": [
    "url = ('https://www.amazon.in/')\n",
    "driver.get(url)"
   ]
  },
  {
   "cell_type": "code",
   "execution_count": 149,
   "id": "a70e1e9b",
   "metadata": {},
   "outputs": [
    {
     "ename": "ElementNotInteractableException",
     "evalue": "Message: element not interactable\n  (Session info: chrome=107.0.5304.107)\nStacktrace:\nBacktrace:\n\tOrdinal0 [0x00E6ACD3+2075859]\n\tOrdinal0 [0x00DFEE61+1633889]\n\tOrdinal0 [0x00CFB680+571008]\n\tOrdinal0 [0x00D2647E+746622]\n\tOrdinal0 [0x00D25B5A+744282]\n\tOrdinal0 [0x00D4731C+881436]\n\tOrdinal0 [0x00D215BF+726463]\n\tOrdinal0 [0x00D47534+881972]\n\tOrdinal0 [0x00D5B56A+963946]\n\tOrdinal0 [0x00D47136+880950]\n\tOrdinal0 [0x00D1FEFD+720637]\n\tOrdinal0 [0x00D20F3F+724799]\n\tGetHandleVerifier [0x0111EED2+2769538]\n\tGetHandleVerifier [0x01110D95+2711877]\n\tGetHandleVerifier [0x00EFA03A+521194]\n\tGetHandleVerifier [0x00EF8DA0+516432]\n\tOrdinal0 [0x00E0682C+1665068]\n\tOrdinal0 [0x00E0B128+1683752]\n\tOrdinal0 [0x00E0B215+1683989]\n\tOrdinal0 [0x00E16484+1729668]\n\tBaseThreadInitThunk [0x75ECFA29+25]\n\tRtlGetAppContainerNamedObjectPath [0x77797BBE+286]\n\tRtlGetAppContainerNamedObjectPath [0x77797B8E+238]\n",
     "output_type": "error",
     "traceback": [
      "\u001b[1;31m---------------------------------------------------------------------------\u001b[0m",
      "\u001b[1;31mElementNotInteractableException\u001b[0m           Traceback (most recent call last)",
      "Input \u001b[1;32mIn [149]\u001b[0m, in \u001b[0;36m<cell line: 2>\u001b[1;34m()\u001b[0m\n\u001b[0;32m      1\u001b[0m search \u001b[38;5;241m=\u001b[39m driver\u001b[38;5;241m.\u001b[39mfind_element(By\u001b[38;5;241m.\u001b[39mCLASS_NAME,\u001b[38;5;124m'\u001b[39m\u001b[38;5;124mnav-fill\u001b[39m\u001b[38;5;124m'\u001b[39m)\n\u001b[1;32m----> 2\u001b[0m \u001b[43msearch\u001b[49m\u001b[38;5;241;43m.\u001b[39;49m\u001b[43msend_keys\u001b[49m\u001b[43m(\u001b[49m\u001b[38;5;124;43m'\u001b[39;49m\u001b[38;5;124;43mLaptop\u001b[39;49m\u001b[38;5;124;43m'\u001b[39;49m\u001b[43m)\u001b[49m\n",
      "File \u001b[1;32m~\\Anaconda3\\lib\\site-packages\\selenium\\webdriver\\remote\\webelement.py:223\u001b[0m, in \u001b[0;36mWebElement.send_keys\u001b[1;34m(self, *value)\u001b[0m\n\u001b[0;32m    220\u001b[0m             remote_files\u001b[38;5;241m.\u001b[39mappend(\u001b[38;5;28mself\u001b[39m\u001b[38;5;241m.\u001b[39m_upload(file))\n\u001b[0;32m    221\u001b[0m         value \u001b[38;5;241m=\u001b[39m \u001b[38;5;124m'\u001b[39m\u001b[38;5;130;01m\\n\u001b[39;00m\u001b[38;5;124m'\u001b[39m\u001b[38;5;241m.\u001b[39mjoin(remote_files)\n\u001b[1;32m--> 223\u001b[0m \u001b[38;5;28;43mself\u001b[39;49m\u001b[38;5;241;43m.\u001b[39;49m\u001b[43m_execute\u001b[49m\u001b[43m(\u001b[49m\u001b[43mCommand\u001b[49m\u001b[38;5;241;43m.\u001b[39;49m\u001b[43mSEND_KEYS_TO_ELEMENT\u001b[49m\u001b[43m,\u001b[49m\n\u001b[0;32m    224\u001b[0m \u001b[43m              \u001b[49m\u001b[43m{\u001b[49m\u001b[38;5;124;43m'\u001b[39;49m\u001b[38;5;124;43mtext\u001b[39;49m\u001b[38;5;124;43m'\u001b[39;49m\u001b[43m:\u001b[49m\u001b[43m \u001b[49m\u001b[38;5;124;43m\"\u001b[39;49m\u001b[38;5;124;43m\"\u001b[39;49m\u001b[38;5;241;43m.\u001b[39;49m\u001b[43mjoin\u001b[49m\u001b[43m(\u001b[49m\u001b[43mkeys_to_typing\u001b[49m\u001b[43m(\u001b[49m\u001b[43mvalue\u001b[49m\u001b[43m)\u001b[49m\u001b[43m)\u001b[49m\u001b[43m,\u001b[49m\n\u001b[0;32m    225\u001b[0m \u001b[43m               \u001b[49m\u001b[38;5;124;43m'\u001b[39;49m\u001b[38;5;124;43mvalue\u001b[39;49m\u001b[38;5;124;43m'\u001b[39;49m\u001b[43m:\u001b[49m\u001b[43m \u001b[49m\u001b[43mkeys_to_typing\u001b[49m\u001b[43m(\u001b[49m\u001b[43mvalue\u001b[49m\u001b[43m)\u001b[49m\u001b[43m}\u001b[49m\u001b[43m)\u001b[49m\n",
      "File \u001b[1;32m~\\Anaconda3\\lib\\site-packages\\selenium\\webdriver\\remote\\webelement.py:396\u001b[0m, in \u001b[0;36mWebElement._execute\u001b[1;34m(self, command, params)\u001b[0m\n\u001b[0;32m    394\u001b[0m     params \u001b[38;5;241m=\u001b[39m {}\n\u001b[0;32m    395\u001b[0m params[\u001b[38;5;124m'\u001b[39m\u001b[38;5;124mid\u001b[39m\u001b[38;5;124m'\u001b[39m] \u001b[38;5;241m=\u001b[39m \u001b[38;5;28mself\u001b[39m\u001b[38;5;241m.\u001b[39m_id\n\u001b[1;32m--> 396\u001b[0m \u001b[38;5;28;01mreturn\u001b[39;00m \u001b[38;5;28;43mself\u001b[39;49m\u001b[38;5;241;43m.\u001b[39;49m\u001b[43m_parent\u001b[49m\u001b[38;5;241;43m.\u001b[39;49m\u001b[43mexecute\u001b[49m\u001b[43m(\u001b[49m\u001b[43mcommand\u001b[49m\u001b[43m,\u001b[49m\u001b[43m \u001b[49m\u001b[43mparams\u001b[49m\u001b[43m)\u001b[49m\n",
      "File \u001b[1;32m~\\Anaconda3\\lib\\site-packages\\selenium\\webdriver\\remote\\webdriver.py:429\u001b[0m, in \u001b[0;36mWebDriver.execute\u001b[1;34m(self, driver_command, params)\u001b[0m\n\u001b[0;32m    427\u001b[0m response \u001b[38;5;241m=\u001b[39m \u001b[38;5;28mself\u001b[39m\u001b[38;5;241m.\u001b[39mcommand_executor\u001b[38;5;241m.\u001b[39mexecute(driver_command, params)\n\u001b[0;32m    428\u001b[0m \u001b[38;5;28;01mif\u001b[39;00m response:\n\u001b[1;32m--> 429\u001b[0m     \u001b[38;5;28;43mself\u001b[39;49m\u001b[38;5;241;43m.\u001b[39;49m\u001b[43merror_handler\u001b[49m\u001b[38;5;241;43m.\u001b[39;49m\u001b[43mcheck_response\u001b[49m\u001b[43m(\u001b[49m\u001b[43mresponse\u001b[49m\u001b[43m)\u001b[49m\n\u001b[0;32m    430\u001b[0m     response[\u001b[38;5;124m'\u001b[39m\u001b[38;5;124mvalue\u001b[39m\u001b[38;5;124m'\u001b[39m] \u001b[38;5;241m=\u001b[39m \u001b[38;5;28mself\u001b[39m\u001b[38;5;241m.\u001b[39m_unwrap_value(\n\u001b[0;32m    431\u001b[0m         response\u001b[38;5;241m.\u001b[39mget(\u001b[38;5;124m'\u001b[39m\u001b[38;5;124mvalue\u001b[39m\u001b[38;5;124m'\u001b[39m, \u001b[38;5;28;01mNone\u001b[39;00m))\n\u001b[0;32m    432\u001b[0m     \u001b[38;5;28;01mreturn\u001b[39;00m response\n",
      "File \u001b[1;32m~\\Anaconda3\\lib\\site-packages\\selenium\\webdriver\\remote\\errorhandler.py:243\u001b[0m, in \u001b[0;36mErrorHandler.check_response\u001b[1;34m(self, response)\u001b[0m\n\u001b[0;32m    241\u001b[0m         alert_text \u001b[38;5;241m=\u001b[39m value[\u001b[38;5;124m'\u001b[39m\u001b[38;5;124malert\u001b[39m\u001b[38;5;124m'\u001b[39m]\u001b[38;5;241m.\u001b[39mget(\u001b[38;5;124m'\u001b[39m\u001b[38;5;124mtext\u001b[39m\u001b[38;5;124m'\u001b[39m)\n\u001b[0;32m    242\u001b[0m     \u001b[38;5;28;01mraise\u001b[39;00m exception_class(message, screen, stacktrace, alert_text)  \u001b[38;5;66;03m# type: ignore[call-arg]  # mypy is not smart enough here\u001b[39;00m\n\u001b[1;32m--> 243\u001b[0m \u001b[38;5;28;01mraise\u001b[39;00m exception_class(message, screen, stacktrace)\n",
      "\u001b[1;31mElementNotInteractableException\u001b[0m: Message: element not interactable\n  (Session info: chrome=107.0.5304.107)\nStacktrace:\nBacktrace:\n\tOrdinal0 [0x00E6ACD3+2075859]\n\tOrdinal0 [0x00DFEE61+1633889]\n\tOrdinal0 [0x00CFB680+571008]\n\tOrdinal0 [0x00D2647E+746622]\n\tOrdinal0 [0x00D25B5A+744282]\n\tOrdinal0 [0x00D4731C+881436]\n\tOrdinal0 [0x00D215BF+726463]\n\tOrdinal0 [0x00D47534+881972]\n\tOrdinal0 [0x00D5B56A+963946]\n\tOrdinal0 [0x00D47136+880950]\n\tOrdinal0 [0x00D1FEFD+720637]\n\tOrdinal0 [0x00D20F3F+724799]\n\tGetHandleVerifier [0x0111EED2+2769538]\n\tGetHandleVerifier [0x01110D95+2711877]\n\tGetHandleVerifier [0x00EFA03A+521194]\n\tGetHandleVerifier [0x00EF8DA0+516432]\n\tOrdinal0 [0x00E0682C+1665068]\n\tOrdinal0 [0x00E0B128+1683752]\n\tOrdinal0 [0x00E0B215+1683989]\n\tOrdinal0 [0x00E16484+1729668]\n\tBaseThreadInitThunk [0x75ECFA29+25]\n\tRtlGetAppContainerNamedObjectPath [0x77797BBE+286]\n\tRtlGetAppContainerNamedObjectPath [0x77797B8E+238]\n"
     ]
    }
   ],
   "source": [
    "search = driver.find_element(By.CLASS_NAME,'nav-fill')\n",
    "search.send_keys('Laptop')"
   ]
  },
  {
   "cell_type": "code",
   "execution_count": 150,
   "id": "e103d93c",
   "metadata": {},
   "outputs": [],
   "source": [
    "search = driver.find_element(By.CLASS_NAME,'nav-right')\n",
    "search.click()"
   ]
  },
  {
   "cell_type": "code",
   "execution_count": 185,
   "id": "5906ca04",
   "metadata": {},
   "outputs": [],
   "source": [
    "brand = []\n",
    "rating = []\n",
    "price = []"
   ]
  },
  {
   "cell_type": "code",
   "execution_count": 186,
   "id": "e84fcfd9",
   "metadata": {},
   "outputs": [],
   "source": [
    "for i in driver.find_elements(By.XPATH,\"//h2[@class='a-size-mini a-spacing-none a-color-base s-line-clamp-2']\"):\n",
    "    if len(brand)<10:\n",
    "        brand.append(i.text)\n",
    "for k in driver.find_elements(By.XPATH,\"//i[@class='a-icon a-icon-star-small a-star-small-4 aok-align-bottom']\"):\n",
    "    if len(rating)<10:\n",
    "        rating.append(k.text)\n",
    "for l in driver.find_elements(By.XPATH,\"//span[@class='a-price-whole']\"):\n",
    "    if len(price)<10:\n",
    "        price.append(l.text)"
   ]
  },
  {
   "cell_type": "code",
   "execution_count": 187,
   "id": "80812b9f",
   "metadata": {},
   "outputs": [
    {
     "data": {
      "text/plain": [
       "(10, 10, 10)"
      ]
     },
     "execution_count": 187,
     "metadata": {},
     "output_type": "execute_result"
    }
   ],
   "source": [
    "len(brand),len(rating),len(price)"
   ]
  },
  {
   "cell_type": "code",
   "execution_count": 188,
   "id": "854be0d2",
   "metadata": {},
   "outputs": [],
   "source": [
    "table = pd.DataFrame({'Brand':brand,\n",
    "                    'Rating':rating,\n",
    "                    'Price':price\n",
    "                    })"
   ]
  },
  {
   "cell_type": "code",
   "execution_count": 189,
   "id": "536a692a",
   "metadata": {},
   "outputs": [
    {
     "data": {
      "text/html": [
       "<div>\n",
       "<style scoped>\n",
       "    .dataframe tbody tr th:only-of-type {\n",
       "        vertical-align: middle;\n",
       "    }\n",
       "\n",
       "    .dataframe tbody tr th {\n",
       "        vertical-align: top;\n",
       "    }\n",
       "\n",
       "    .dataframe thead th {\n",
       "        text-align: right;\n",
       "    }\n",
       "</style>\n",
       "<table border=\"1\" class=\"dataframe\">\n",
       "  <thead>\n",
       "    <tr style=\"text-align: right;\">\n",
       "      <th></th>\n",
       "      <th>Brand</th>\n",
       "      <th>Rating</th>\n",
       "      <th>Price</th>\n",
       "    </tr>\n",
       "  </thead>\n",
       "  <tbody>\n",
       "    <tr>\n",
       "      <th>0</th>\n",
       "      <td>Acer Aspire 3 (AMD Ryzen 3-3250U/ 8GB/ 256 GB ...</td>\n",
       "      <td></td>\n",
       "      <td>29,990</td>\n",
       "    </tr>\n",
       "    <tr>\n",
       "      <th>1</th>\n",
       "      <td>Acer Extensa 15 Lightweight Laptop 11th Gen In...</td>\n",
       "      <td></td>\n",
       "      <td>32,990</td>\n",
       "    </tr>\n",
       "    <tr>\n",
       "      <th>2</th>\n",
       "      <td>Lenovo IdeaPad Slim 3 Intel Celeron N4020 4th ...</td>\n",
       "      <td></td>\n",
       "      <td>27,140</td>\n",
       "    </tr>\n",
       "    <tr>\n",
       "      <th>3</th>\n",
       "      <td>(Renewed) Lenovo Thinkpad L450 5th Gen Intel C...</td>\n",
       "      <td></td>\n",
       "      <td>16,999</td>\n",
       "    </tr>\n",
       "    <tr>\n",
       "      <th>4</th>\n",
       "      <td>(Renewed) Dell Latitude E5470 Intel Core i5 6t...</td>\n",
       "      <td></td>\n",
       "      <td>19,494</td>\n",
       "    </tr>\n",
       "    <tr>\n",
       "      <th>5</th>\n",
       "      <td>HP Spectre x360 11th Gen Intel Core i7 13.3 in...</td>\n",
       "      <td></td>\n",
       "      <td>39,820</td>\n",
       "    </tr>\n",
       "    <tr>\n",
       "      <th>6</th>\n",
       "      <td>LG Gram Intel Evo 11th Gen Core i7 17\"(43cm)Ul...</td>\n",
       "      <td></td>\n",
       "      <td>1,42,000</td>\n",
       "    </tr>\n",
       "    <tr>\n",
       "      <th>7</th>\n",
       "      <td>Dell New XPS 9310 Intel Evo i5-1135G7 13.4 Inc...</td>\n",
       "      <td></td>\n",
       "      <td>93,000</td>\n",
       "    </tr>\n",
       "    <tr>\n",
       "      <th>8</th>\n",
       "      <td>ASUS VivoBook 15 (2021), 15.6-inch (39.62 cm) ...</td>\n",
       "      <td></td>\n",
       "      <td>1,07,117</td>\n",
       "    </tr>\n",
       "    <tr>\n",
       "      <th>9</th>\n",
       "      <td>Lenovo IdeaPad D330 Intel Celeron N4020 10.1\" ...</td>\n",
       "      <td></td>\n",
       "      <td>25,790</td>\n",
       "    </tr>\n",
       "  </tbody>\n",
       "</table>\n",
       "</div>"
      ],
      "text/plain": [
       "                                               Brand Rating     Price\n",
       "0  Acer Aspire 3 (AMD Ryzen 3-3250U/ 8GB/ 256 GB ...           29,990\n",
       "1  Acer Extensa 15 Lightweight Laptop 11th Gen In...           32,990\n",
       "2  Lenovo IdeaPad Slim 3 Intel Celeron N4020 4th ...           27,140\n",
       "3  (Renewed) Lenovo Thinkpad L450 5th Gen Intel C...           16,999\n",
       "4  (Renewed) Dell Latitude E5470 Intel Core i5 6t...           19,494\n",
       "5  HP Spectre x360 11th Gen Intel Core i7 13.3 in...           39,820\n",
       "6  LG Gram Intel Evo 11th Gen Core i7 17\"(43cm)Ul...         1,42,000\n",
       "7  Dell New XPS 9310 Intel Evo i5-1135G7 13.4 Inc...           93,000\n",
       "8  ASUS VivoBook 15 (2021), 15.6-inch (39.62 cm) ...         1,07,117\n",
       "9  Lenovo IdeaPad D330 Intel Celeron N4020 10.1\" ...           25,790"
      ]
     },
     "execution_count": 189,
     "metadata": {},
     "output_type": "execute_result"
    }
   ],
   "source": [
    "table"
   ]
  },
  {
   "cell_type": "code",
   "execution_count": null,
   "id": "409fa764",
   "metadata": {},
   "outputs": [],
   "source": [
    "#QUESTION 9"
   ]
  },
  {
   "cell_type": "code",
   "execution_count": 205,
   "id": "a76ec214",
   "metadata": {},
   "outputs": [],
   "source": [
    "url = ('https://www.azquotes.com/')\n",
    "driver.get(url)"
   ]
  },
  {
   "cell_type": "code",
   "execution_count": 208,
   "id": "31ac7cff",
   "metadata": {},
   "outputs": [],
   "source": [
    "search = driver.find_element(By.XPATH,'/html/body/div[1]/div[1]/div[1]/div/div[3]/ul/li[5]/a')\n",
    "search.click()"
   ]
  },
  {
   "cell_type": "code",
   "execution_count": 209,
   "id": "37772f52",
   "metadata": {},
   "outputs": [],
   "source": [
    "quote = []\n",
    "author = []\n",
    "qtype = []"
   ]
  },
  {
   "cell_type": "code",
   "execution_count": 210,
   "id": "40f638e1",
   "metadata": {},
   "outputs": [],
   "source": [
    "url = 'https://www.azquotes.com/top_quotes.html?p='\n",
    "for h in range(0,15):\n",
    "    driver.get(url+str(h))\n",
    "    for i in driver.find_elements(By.XPATH,\"//a[@class='title']\"):\n",
    "        if len(quote)<1000:\n",
    "            quote.append(i.text)\n",
    "    for k in driver.find_elements(By.XPATH,\"//div[@class='author']\"):\n",
    "        if len(author)<1000:\n",
    "            author.append(k.text)\n",
    "    for l in driver.find_elements(By.XPATH,\"//div[@class='tags']\"):\n",
    "        if len(qtype)<1000:\n",
    "            qtype.append(l.text)"
   ]
  },
  {
   "cell_type": "code",
   "execution_count": 211,
   "id": "489bdd80",
   "metadata": {},
   "outputs": [
    {
     "data": {
      "text/plain": [
       "(1000, 1000, 1000)"
      ]
     },
     "execution_count": 211,
     "metadata": {},
     "output_type": "execute_result"
    }
   ],
   "source": [
    "len(quote),len(author),len(qtype)"
   ]
  },
  {
   "cell_type": "code",
   "execution_count": 212,
   "id": "fc9108c4",
   "metadata": {},
   "outputs": [],
   "source": [
    "table = pd.DataFrame({'Quote':quote,\n",
    "                    'Author':author,\n",
    "                    'Type':qtype\n",
    "                    })"
   ]
  },
  {
   "cell_type": "code",
   "execution_count": 213,
   "id": "503666c6",
   "metadata": {},
   "outputs": [
    {
     "data": {
      "text/html": [
       "<div>\n",
       "<style scoped>\n",
       "    .dataframe tbody tr th:only-of-type {\n",
       "        vertical-align: middle;\n",
       "    }\n",
       "\n",
       "    .dataframe tbody tr th {\n",
       "        vertical-align: top;\n",
       "    }\n",
       "\n",
       "    .dataframe thead th {\n",
       "        text-align: right;\n",
       "    }\n",
       "</style>\n",
       "<table border=\"1\" class=\"dataframe\">\n",
       "  <thead>\n",
       "    <tr style=\"text-align: right;\">\n",
       "      <th></th>\n",
       "      <th>Quote</th>\n",
       "      <th>Author</th>\n",
       "      <th>Type</th>\n",
       "    </tr>\n",
       "  </thead>\n",
       "  <tbody>\n",
       "    <tr>\n",
       "      <th>0</th>\n",
       "      <td>The essence of strategy is choosing what not t...</td>\n",
       "      <td>Michael Porter</td>\n",
       "      <td>Essence, Deep Thought, Transcendentalism</td>\n",
       "    </tr>\n",
       "    <tr>\n",
       "      <th>1</th>\n",
       "      <td>One cannot and must not try to erase the past ...</td>\n",
       "      <td>Golda Meir</td>\n",
       "      <td>Inspiration, Past, Trying</td>\n",
       "    </tr>\n",
       "    <tr>\n",
       "      <th>2</th>\n",
       "      <td>Patriotism means to stand by the country. It d...</td>\n",
       "      <td>Theodore Roosevelt</td>\n",
       "      <td>Country, Peace, War</td>\n",
       "    </tr>\n",
       "    <tr>\n",
       "      <th>3</th>\n",
       "      <td>Death is something inevitable. When a man has ...</td>\n",
       "      <td>Nelson Mandela</td>\n",
       "      <td>Inspirational, Motivational, Death</td>\n",
       "    </tr>\n",
       "    <tr>\n",
       "      <th>4</th>\n",
       "      <td>You have to love a nation that celebrates its ...</td>\n",
       "      <td>Erma Bombeck</td>\n",
       "      <td>4th Of July, Food, Patriotic</td>\n",
       "    </tr>\n",
       "    <tr>\n",
       "      <th>...</th>\n",
       "      <td>...</td>\n",
       "      <td>...</td>\n",
       "      <td>...</td>\n",
       "    </tr>\n",
       "    <tr>\n",
       "      <th>995</th>\n",
       "      <td>To love means loving the unlovable. To forgive...</td>\n",
       "      <td>Gilbert K. Chesterton</td>\n",
       "      <td>Love, Inspirational, Success</td>\n",
       "    </tr>\n",
       "    <tr>\n",
       "      <th>996</th>\n",
       "      <td>If you really want to do something, you'll fin...</td>\n",
       "      <td>Jim Rohn</td>\n",
       "      <td>Inspirational, Motivational, Success</td>\n",
       "    </tr>\n",
       "    <tr>\n",
       "      <th>997</th>\n",
       "      <td>Be brave. Take risks. Nothing can substitute e...</td>\n",
       "      <td>Paulo Coelho</td>\n",
       "      <td>Encouraging, Courage, Inspiration</td>\n",
       "    </tr>\n",
       "    <tr>\n",
       "      <th>998</th>\n",
       "      <td>It is neither wealth nor splendor; but tranqui...</td>\n",
       "      <td>Thomas Jefferson</td>\n",
       "      <td>Life, Happiness, Work</td>\n",
       "    </tr>\n",
       "    <tr>\n",
       "      <th>999</th>\n",
       "      <td>A thousand words will not leave so deep an imp...</td>\n",
       "      <td>Henrik Ibsen</td>\n",
       "      <td>Inspirational, Inspiring, Positivity</td>\n",
       "    </tr>\n",
       "  </tbody>\n",
       "</table>\n",
       "<p>1000 rows × 3 columns</p>\n",
       "</div>"
      ],
      "text/plain": [
       "                                                 Quote                 Author  \\\n",
       "0    The essence of strategy is choosing what not t...         Michael Porter   \n",
       "1    One cannot and must not try to erase the past ...             Golda Meir   \n",
       "2    Patriotism means to stand by the country. It d...     Theodore Roosevelt   \n",
       "3    Death is something inevitable. When a man has ...         Nelson Mandela   \n",
       "4    You have to love a nation that celebrates its ...           Erma Bombeck   \n",
       "..                                                 ...                    ...   \n",
       "995  To love means loving the unlovable. To forgive...  Gilbert K. Chesterton   \n",
       "996  If you really want to do something, you'll fin...               Jim Rohn   \n",
       "997  Be brave. Take risks. Nothing can substitute e...           Paulo Coelho   \n",
       "998  It is neither wealth nor splendor; but tranqui...       Thomas Jefferson   \n",
       "999  A thousand words will not leave so deep an imp...           Henrik Ibsen   \n",
       "\n",
       "                                         Type  \n",
       "0    Essence, Deep Thought, Transcendentalism  \n",
       "1                   Inspiration, Past, Trying  \n",
       "2                         Country, Peace, War  \n",
       "3          Inspirational, Motivational, Death  \n",
       "4                4th Of July, Food, Patriotic  \n",
       "..                                        ...  \n",
       "995              Love, Inspirational, Success  \n",
       "996      Inspirational, Motivational, Success  \n",
       "997         Encouraging, Courage, Inspiration  \n",
       "998                     Life, Happiness, Work  \n",
       "999      Inspirational, Inspiring, Positivity  \n",
       "\n",
       "[1000 rows x 3 columns]"
      ]
     },
     "execution_count": 213,
     "metadata": {},
     "output_type": "execute_result"
    }
   ],
   "source": [
    "table"
   ]
  },
  {
   "cell_type": "code",
   "execution_count": 214,
   "id": "858412ea",
   "metadata": {},
   "outputs": [],
   "source": [
    "#QUESTION 10"
   ]
  },
  {
   "cell_type": "code",
   "execution_count": 51,
   "id": "3073800e",
   "metadata": {},
   "outputs": [],
   "source": [
    "url = ('https://www.jagranjosh.com/')\n",
    "driver.get(url)"
   ]
  },
  {
   "cell_type": "code",
   "execution_count": 52,
   "id": "5b5d30ae",
   "metadata": {},
   "outputs": [],
   "source": [
    "search1 = driver.find_element(By.XPATH,'/html/body/div[1]/div[1]/div/div[1]/div/div[6]/div/div[1]/header/div[3]/ul/li[9]/a')\n",
    "search1.click()"
   ]
  },
  {
   "cell_type": "code",
   "execution_count": 53,
   "id": "eac4e674",
   "metadata": {},
   "outputs": [],
   "source": [
    "search2 = driver.find_element(By.XPATH,'/html/body/div[1]/div/div/div[2]/div/div[10]/div/div/ul/li[2]/a')\n",
    "search2.click()"
   ]
  },
  {
   "cell_type": "code",
   "execution_count": 122,
   "id": "38908d87",
   "metadata": {},
   "outputs": [],
   "source": [
    "name = []\n",
    "born = []\n",
    "term = []\n",
    "remark = []"
   ]
  },
  {
   "cell_type": "code",
   "execution_count": 123,
   "id": "0f4a29d5",
   "metadata": {},
   "outputs": [],
   "source": [
    "for i in driver.find_elements(By.XPATH,\"//div[@class='table-box']\"):\n",
    "    name.append(i.text.split('\\n')[6::6])\n",
    "for i in driver.find_elements(By.XPATH,\"//div[@class='table-box']\"):\n",
    "    born.append(i.text.split('\\n')[7::6])\n",
    "for i in driver.find_elements(By.XPATH,\"//div[@class='table-box']\"):\n",
    "    term.append(i.text.split('\\n')[8::6])\n",
    "for i in driver.find_elements(By.XPATH,\"//div[@class='table-box']\"):\n",
    "    remark.append(i.text.split('\\n')[10::6])"
   ]
  },
  {
   "cell_type": "code",
   "execution_count": 124,
   "id": "393ffaaf",
   "metadata": {},
   "outputs": [
    {
     "data": {
      "text/plain": [
       "[[' 126 days\\nOldest to become PM (81 years old) and first to resign from office\\n7.\\nCharan Singh\\n(1902–1987)\\n28 July 1979 to 14 January 1980\\n170 days\\nOnly PM who did not face the Parliament\\n8.\\nIndira Gandhi\\n(1917–1984)\\n14 January 1980 to 31 October 1984\\n4 years'],\n",
       " []]"
      ]
     },
     "execution_count": 124,
     "metadata": {},
     "output_type": "execute_result"
    }
   ],
   "source": [
    "name"
   ]
  },
  {
   "cell_type": "code",
   "execution_count": 112,
   "id": "b0f0c5bf",
   "metadata": {},
   "outputs": [
    {
     "data": {
      "text/plain": [
       "(2, 2, 2, 2)"
      ]
     },
     "execution_count": 112,
     "metadata": {},
     "output_type": "execute_result"
    }
   ],
   "source": [
    "len(name),len(born),len(term),len(remark)"
   ]
  },
  {
   "cell_type": "code",
   "execution_count": 114,
   "id": "66b27dc3",
   "metadata": {},
   "outputs": [],
   "source": [
    "table = pd.DataFrame({'Name':name,\n",
    "                    'Born-death':born,\n",
    "                    'Term of office':term,\n",
    "                      'Remarks':remark\n",
    "                    })"
   ]
  },
  {
   "cell_type": "code",
   "execution_count": 115,
   "id": "c04c9b25",
   "metadata": {},
   "outputs": [
    {
     "data": {
      "text/html": [
       "<div>\n",
       "<style scoped>\n",
       "    .dataframe tbody tr th:only-of-type {\n",
       "        vertical-align: middle;\n",
       "    }\n",
       "\n",
       "    .dataframe tbody tr th {\n",
       "        vertical-align: top;\n",
       "    }\n",
       "\n",
       "    .dataframe thead th {\n",
       "        text-align: right;\n",
       "    }\n",
       "</style>\n",
       "<table border=\"1\" class=\"dataframe\">\n",
       "  <thead>\n",
       "    <tr style=\"text-align: right;\">\n",
       "      <th></th>\n",
       "      <th>Name</th>\n",
       "      <th>Born-death</th>\n",
       "      <th>Term of office</th>\n",
       "      <th>Remarks</th>\n",
       "    </tr>\n",
       "  </thead>\n",
       "  <tbody>\n",
       "    <tr>\n",
       "      <th>0</th>\n",
       "      <td>[Jawahar Lal Nehru, Gulzarilal Nanda (Acting),...</td>\n",
       "      <td>[(1889–1964), (1898-1998), (1904–1966), (1898-...</td>\n",
       "      <td>[15 August 1947 to 27 May 1964, 27 May 1964 to...</td>\n",
       "      <td>[The first prime minister of India and the lon...</td>\n",
       "    </tr>\n",
       "    <tr>\n",
       "      <th>1</th>\n",
       "      <td>[]</td>\n",
       "      <td>[]</td>\n",
       "      <td>[]</td>\n",
       "      <td>[]</td>\n",
       "    </tr>\n",
       "  </tbody>\n",
       "</table>\n",
       "</div>"
      ],
      "text/plain": [
       "                                                Name  \\\n",
       "0  [Jawahar Lal Nehru, Gulzarilal Nanda (Acting),...   \n",
       "1                                                 []   \n",
       "\n",
       "                                          Born-death  \\\n",
       "0  [(1889–1964), (1898-1998), (1904–1966), (1898-...   \n",
       "1                                                 []   \n",
       "\n",
       "                                      Term of office  \\\n",
       "0  [15 August 1947 to 27 May 1964, 27 May 1964 to...   \n",
       "1                                                 []   \n",
       "\n",
       "                                             Remarks  \n",
       "0  [The first prime minister of India and the lon...  \n",
       "1                                                 []  "
      ]
     },
     "execution_count": 115,
     "metadata": {},
     "output_type": "execute_result"
    }
   ],
   "source": [
    "table"
   ]
  },
  {
   "cell_type": "code",
   "execution_count": 113,
   "id": "5d467e05",
   "metadata": {},
   "outputs": [],
   "source": [
    "#QUESTION 11"
   ]
  },
  {
   "cell_type": "code",
   "execution_count": 125,
   "id": "845556fe",
   "metadata": {},
   "outputs": [],
   "source": [
    "url = ('https://www.motor1.com/')\n",
    "driver.get(url)"
   ]
  },
  {
   "cell_type": "code",
   "execution_count": 126,
   "id": "d7cf6dac",
   "metadata": {},
   "outputs": [],
   "source": [
    "menu = driver.find_element(By.CLASS_NAME,'m1-hamburger-button')\n",
    "menu.click()"
   ]
  },
  {
   "cell_type": "code",
   "execution_count": 127,
   "id": "dc0338a8",
   "metadata": {},
   "outputs": [],
   "source": [
    "list1 = driver.find_element(By.XPATH,'/html/body/div[3]/div[1]/div[3]/ul/li[4]/a')\n",
    "list1.click()"
   ]
  },
  {
   "cell_type": "code",
   "execution_count": 128,
   "id": "a2f8352c",
   "metadata": {},
   "outputs": [],
   "source": [
    "list2 = driver.find_element(By.XPATH,'/html/body/div[2]/div[9]/div[1]/div[1]/div/div/div[1]/div/div[1]/h3/a')\n",
    "list2.click()"
   ]
  },
  {
   "cell_type": "code",
   "execution_count": 176,
   "id": "1814a016",
   "metadata": {},
   "outputs": [],
   "source": [
    "company = []\n",
    "model = []\n",
    "price = []"
   ]
  },
  {
   "cell_type": "code",
   "execution_count": 179,
   "id": "06c511bd",
   "metadata": {},
   "outputs": [
    {
     "data": {
      "text/plain": [
       "[['Drako GTE',\n",
       "  'Ferrari LaFerrari',\n",
       "  'McLaren Elva',\n",
       "  'Ferrari Monza',\n",
       "  'Koenigsegg Gemera',\n",
       "  'Hennessey Venom F5',\n",
       "  'Hispano Suiza Carmen Boulogne',\n",
       "  'Deus Vayanne',\n",
       "  'Lotus Evija',\n",
       "  'Delage D12',\n",
       "  'Rimac Nevera',\n",
       "  'Pininfarina Battista',\n",
       "  'Gordon Murray T.50',\n",
       "  'Mercedes-AMG Project One',\n",
       "  'Hennessey Venom F5 Roadster',\n",
       "  'Aston Martin Valkyrie',\n",
       "  'McLaren Solus',\n",
       "  'Bugatti Chiron Pur Sport',\n",
       "  'Koenigsegg CC850',\n",
       "  'Lamborghini Veneno',\n",
       "  'Bugatti Mistral',\n",
       "  'Bugatti Divo',\n",
       "  'Pagani Codalunga',\n",
       "  'Bugatti Centodieci',\n",
       "  'Bugatti La Voiture Noire']]"
      ]
     },
     "execution_count": 179,
     "metadata": {},
     "output_type": "execute_result"
    }
   ],
   "source": [
    "for i in driver.find_elements(By.XPATH,\"//div[@class='postContent content-wrapper']\"):\n",
    "    company.append(i.text.split('\\n')[5:155:6])\n",
    "company"
   ]
  },
  {
   "cell_type": "code",
   "execution_count": 177,
   "id": "18cce6e2",
   "metadata": {},
   "outputs": [
    {
     "data": {
      "text/plain": [
       "[['Price: $1.2 Million',\n",
       "  'Price: $1.4 Million',\n",
       "  'Price: $1.7 Million',\n",
       "  'Price: $1.7 Million',\n",
       "  'Price: $1.7 Million',\n",
       "  'Price: $1.8 Million',\n",
       "  'Price: $1.9 Million',\n",
       "  'Price: $2.0 Million',\n",
       "  'Price: $2.1 Million',\n",
       "  'Price: $2.3 Million',\n",
       "  'Price: $2.4 Million',\n",
       "  'Price: $2.5 Million',\n",
       "  'Price: $2.6 Million',\n",
       "  'Price: $2.7 Million',\n",
       "  '$3.0 Million',\n",
       "  'Price: $3.2 Million',\n",
       "  '$3.5 Million',\n",
       "  'Price: $3.6 Million',\n",
       "  'Price: $3.7 Million',\n",
       "  'Price: $4.5 Million',\n",
       "  'Price: $5.0 Million',\n",
       "  'Price: $5.8 Million',\n",
       "  'Price: $7.4 Million',\n",
       "  'Price: $9.0 Million',\n",
       "  'Price: $13.4 Million']]"
      ]
     },
     "execution_count": 177,
     "metadata": {},
     "output_type": "execute_result"
    }
   ],
   "source": [
    "for i in driver.find_elements(By.XPATH,\"//div[@class='postContent content-wrapper']\"):\n",
    "    model.append(i.text.split('\\n')[6:155:6])\n",
    "model"
   ]
  },
  {
   "cell_type": "code",
   "execution_count": 180,
   "id": "69198910",
   "metadata": {},
   "outputs": [
    {
     "data": {
      "text/plain": [
       "(1, 1, 0)"
      ]
     },
     "execution_count": 180,
     "metadata": {},
     "output_type": "execute_result"
    }
   ],
   "source": [
    "len(company),len(model)"
   ]
  },
  {
   "cell_type": "code",
   "execution_count": 181,
   "id": "189531fd",
   "metadata": {},
   "outputs": [],
   "source": [
    "table = pd.DataFrame({'Brand & Model':company,\n",
    "                    'Price':model\n",
    "                    })"
   ]
  },
  {
   "cell_type": "code",
   "execution_count": 182,
   "id": "8724a575",
   "metadata": {},
   "outputs": [
    {
     "data": {
      "text/html": [
       "<div>\n",
       "<style scoped>\n",
       "    .dataframe tbody tr th:only-of-type {\n",
       "        vertical-align: middle;\n",
       "    }\n",
       "\n",
       "    .dataframe tbody tr th {\n",
       "        vertical-align: top;\n",
       "    }\n",
       "\n",
       "    .dataframe thead th {\n",
       "        text-align: right;\n",
       "    }\n",
       "</style>\n",
       "<table border=\"1\" class=\"dataframe\">\n",
       "  <thead>\n",
       "    <tr style=\"text-align: right;\">\n",
       "      <th></th>\n",
       "      <th>Brand &amp; Model</th>\n",
       "      <th>Price</th>\n",
       "    </tr>\n",
       "  </thead>\n",
       "  <tbody>\n",
       "    <tr>\n",
       "      <th>0</th>\n",
       "      <td>[Drako GTE, Ferrari LaFerrari, McLaren Elva, F...</td>\n",
       "      <td>[Price: $1.2 Million, Price: $1.4 Million, Pri...</td>\n",
       "    </tr>\n",
       "  </tbody>\n",
       "</table>\n",
       "</div>"
      ],
      "text/plain": [
       "                                       Brand & Model  \\\n",
       "0  [Drako GTE, Ferrari LaFerrari, McLaren Elva, F...   \n",
       "\n",
       "                                               Price  \n",
       "0  [Price: $1.2 Million, Price: $1.4 Million, Pri...  "
      ]
     },
     "execution_count": 182,
     "metadata": {},
     "output_type": "execute_result"
    }
   ],
   "source": [
    "table"
   ]
  },
  {
   "cell_type": "code",
   "execution_count": 183,
   "id": "99c61572",
   "metadata": {},
   "outputs": [
    {
     "ename": "AttributeError",
     "evalue": "'list' object has no attribute 'split'",
     "output_type": "error",
     "traceback": [
      "\u001b[1;31m---------------------------------------------------------------------------\u001b[0m",
      "\u001b[1;31mAttributeError\u001b[0m                            Traceback (most recent call last)",
      "Input \u001b[1;32mIn [183]\u001b[0m, in \u001b[0;36m<cell line: 1>\u001b[1;34m()\u001b[0m\n\u001b[1;32m----> 1\u001b[0m \u001b[43mcompany\u001b[49m\u001b[38;5;241;43m.\u001b[39;49m\u001b[43msplit\u001b[49m(\u001b[38;5;124m'\u001b[39m\u001b[38;5;124m,\u001b[39m\u001b[38;5;124m'\u001b[39m)\n",
      "\u001b[1;31mAttributeError\u001b[0m: 'list' object has no attribute 'split'"
     ]
    }
   ],
   "source": [
    "company.split(',')"
   ]
  }
 ],
 "metadata": {
  "kernelspec": {
   "display_name": "Python 3 (ipykernel)",
   "language": "python",
   "name": "python3"
  },
  "language_info": {
   "codemirror_mode": {
    "name": "ipython",
    "version": 3
   },
   "file_extension": ".py",
   "mimetype": "text/x-python",
   "name": "python",
   "nbconvert_exporter": "python",
   "pygments_lexer": "ipython3",
   "version": "3.9.12"
  }
 },
 "nbformat": 4,
 "nbformat_minor": 5
}
